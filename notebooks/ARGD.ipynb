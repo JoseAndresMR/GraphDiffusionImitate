{
 "cells": [
  {
   "cell_type": "markdown",
   "metadata": {},
   "source": [
    "# Autoregressive Diffusion Models on Graphs"
   ]
  },
  {
   "cell_type": "code",
   "execution_count": 1,
   "metadata": {},
   "outputs": [
    {
     "name": "stderr",
     "output_type": "stream",
     "text": [
      "/home/caio/.local/lib/python3.8/site-packages/tqdm/auto.py:21: TqdmWarning: IProgress not found. Please update jupyter and ipywidgets. See https://ipywidgets.readthedocs.io/en/stable/user_install.html\n",
      "  from .autonotebook import tqdm as notebook_tqdm\n"
     ]
    }
   ],
   "source": [
    "import torch_geometric\n",
    "from torch_geometric.datasets import ZINC\n",
    "from tqdm import tqdm\n",
    "import torch"
   ]
  },
  {
   "cell_type": "code",
   "execution_count": 2,
   "metadata": {},
   "outputs": [
    {
     "name": "stderr",
     "output_type": "stream",
     "text": [
      "Downloading https://www.dropbox.com/s/feo9qle74kg48gy/molecules.zip?dl=1\n",
      "Extracting /tmp/ZINC/molecules.zip\n",
      "Downloading https://raw.githubusercontent.com/graphdeeplearning/benchmarking-gnns/master/data/molecules/train.index\n",
      "Downloading https://raw.githubusercontent.com/graphdeeplearning/benchmarking-gnns/master/data/molecules/val.index\n",
      "Downloading https://raw.githubusercontent.com/graphdeeplearning/benchmarking-gnns/master/data/molecules/test.index\n",
      "Processing...\n",
      "Processing train dataset: 100%|██████████| 220011/220011 [00:12<00:00, 18195.33it/s]\n",
      "Processing val dataset: 100%|██████████| 24445/24445 [00:02<00:00, 10637.45it/s]\n",
      "Processing test dataset: 100%|██████████| 5000/5000 [00:00<00:00, 15249.15it/s]\n",
      "Done!\n"
     ]
    }
   ],
   "source": [
    "# instanciate the dataset\n",
    "dataset = ZINC(root='/tmp/ZINC', transform=None, pre_transform=None)"
   ]
  },
  {
   "cell_type": "code",
   "execution_count": 3,
   "metadata": {},
   "outputs": [
    {
     "data": {
      "text/plain": [
       "Data(x=[22, 1], edge_index=[2, 48], edge_attr=[48], y=[1])"
      ]
     },
     "execution_count": 3,
     "metadata": {},
     "output_type": "execute_result"
    }
   ],
   "source": [
    "point = dataset[10]\n",
    "point"
   ]
  },
  {
   "cell_type": "code",
   "execution_count": 4,
   "metadata": {},
   "outputs": [
    {
     "data": {
      "text/plain": [
       "tensor([1, 1, 1, 1, 1, 1, 1, 2, 1, 2, 1, 1, 1, 1, 1, 2, 1, 2, 1, 1, 2, 2, 1, 1,\n",
       "        2, 1, 2, 1, 2, 1, 2, 1, 1, 2, 2, 1, 1, 1, 2, 2, 1, 1, 2, 2, 1, 1, 1, 1])"
      ]
     },
     "execution_count": 4,
     "metadata": {},
     "output_type": "execute_result"
    }
   ],
   "source": [
    "point.edge_attr"
   ]
  },
  {
   "cell_type": "code",
   "execution_count": 5,
   "metadata": {},
   "outputs": [],
   "source": [
    "# absence of edges should be an edge type, attribute 0\n",
    "# fully connect graph"
   ]
  },
  {
   "cell_type": "code",
   "execution_count": 6,
   "metadata": {},
   "outputs": [
    {
     "data": {
      "text/plain": [
       "tensor([-0.2184])"
      ]
     },
     "execution_count": 6,
     "metadata": {},
     "output_type": "execute_result"
    }
   ],
   "source": [
    "point.y"
   ]
  },
  {
   "cell_type": "code",
   "execution_count": 7,
   "metadata": {},
   "outputs": [
    {
     "data": {
      "text/plain": [
       "'\\nMasking node mechanism\\n1. Masked node (x = -1)\\n2. Connected to all other nodes in graph by masked edges (edge_attr = -1)\\n'"
      ]
     },
     "execution_count": 7,
     "metadata": {},
     "output_type": "execute_result"
    }
   ],
   "source": [
    "'''\n",
    "Masking node mechanism\n",
    "1. Masked node (x = -1)\n",
    "2. Connected to all other nodes in graph by masked edges (edge_attr = -1)\n",
    "'''"
   ]
  },
  {
   "cell_type": "code",
   "execution_count": 8,
   "metadata": {},
   "outputs": [
    {
     "data": {
      "text/plain": [
       "{'x': tensor([[0],\n",
       "         [4],\n",
       "         [2],\n",
       "         [0],\n",
       "         [1],\n",
       "         [4],\n",
       "         [1],\n",
       "         [0],\n",
       "         [0],\n",
       "         [0],\n",
       "         [0],\n",
       "         [0],\n",
       "         [0],\n",
       "         [0],\n",
       "         [2],\n",
       "         [2],\n",
       "         [0],\n",
       "         [0],\n",
       "         [0],\n",
       "         [0],\n",
       "         [0],\n",
       "         [2]]),\n",
       " 'edge_index': tensor([[ 0,  1,  1,  1,  2,  2,  3,  3,  3,  4,  5,  5,  5,  6,  7,  7,  7,  8,\n",
       "           8,  9,  9, 10, 10, 11, 11, 12, 12, 13, 13, 13, 14, 14, 15, 15, 16, 16,\n",
       "          16, 17, 17, 18, 18, 19, 19, 20, 20, 21, 21, 21],\n",
       "         [ 1,  0,  2, 13,  1,  3,  2,  4,  5,  3,  3,  6,  7,  5,  5,  8, 12,  7,\n",
       "           9,  8, 10,  9, 11, 10, 12,  7, 11,  1, 14, 21, 13, 15, 14, 16, 15, 17,\n",
       "          21, 16, 18, 17, 19, 18, 20, 19, 21, 13, 16, 20]]),\n",
       " 'edge_attr': tensor([1, 1, 1, 1, 1, 1, 1, 2, 1, 2, 1, 1, 1, 1, 1, 2, 1, 2, 1, 1, 2, 2, 1, 1,\n",
       "         2, 1, 2, 1, 2, 1, 2, 1, 1, 2, 2, 1, 1, 1, 2, 2, 1, 1, 2, 2, 1, 1, 1, 1]),\n",
       " 'y': tensor([-0.2184])}"
      ]
     },
     "execution_count": 8,
     "metadata": {},
     "output_type": "execute_result"
    }
   ],
   "source": [
    "point.to_dict()"
   ]
  },
  {
   "cell_type": "code",
   "execution_count": 9,
   "metadata": {},
   "outputs": [
    {
     "data": {
      "text/plain": [
       "[17, 19, 9, 1, 2, 15, 21, 13, 10, 4, 8, 0, 12, 14, 5, 6, 18, 20, 16, 3, 11, 7]"
      ]
     },
     "execution_count": 9,
     "metadata": {},
     "output_type": "execute_result"
    }
   ],
   "source": [
    "'''\n",
    "Node decay ordering, for forward absorbing pass\n",
    "* Naive: random\n",
    "Later on, use diffusion ordering network\n",
    "'''\n",
    "\n",
    "def node_decay_ordering(datapoint):\n",
    "    # create random list of nodes\n",
    "    return torch.randperm(datapoint.x.shape[0]).tolist()\n",
    "\n",
    "\n",
    "\n",
    "def mask_node(datapoint, selected_node):\n",
    "    '''\n",
    "    datapoint.x: node feature matrix\n",
    "    datapoint.edge_index: edge index matrix\n",
    "    datapoint.edge_attr: edge attribute matrix\n",
    "    datapoint.y: target value\n",
    "\n",
    "    ** Changes datapoint inplace\n",
    "    '''\n",
    "    # mask node\n",
    "    datapoint.x[selected_node] = 0\n",
    "    # mask edges\n",
    "    datapoint.edge_attr[datapoint.edge_index[0] == selected_node] = 0\n",
    "    datapoint.edge_attr[datapoint.edge_index[1] == selected_node] = 0\n",
    "    return datapoint\n",
    "\n",
    "node_decay_ordering(point)"
   ]
  },
  {
   "cell_type": "markdown",
   "metadata": {},
   "source": [
    "### Forward Diffusion Process\n",
    "\n",
    "Node orderint $\\sigma$ randomly sampled. Exactly one node decays at a time.\n",
    "\n",
    "At each step $t$, distribution of $t$-th node is conditioned on original graph $G$ and generated node ordering $\\sigma$ up to $t-1$."
   ]
  },
  {
   "cell_type": "code",
   "execution_count": 10,
   "metadata": {},
   "outputs": [],
   "source": [
    "for node in node_decay_ordering(point):\n",
    "    mask_node(point, node)"
   ]
  },
  {
   "cell_type": "markdown",
   "metadata": {},
   "source": [
    "## Reverse Diffusion (Generative) Process\n",
    "\n",
    "Denoising network $p_ \\theta (G_t | G_{t+1})$ is a graph attention network (GAT). (Vanilla GAT)\n",
    "\n",
    "For now, simple graph convolutional network (GCN) is used.\n",
    "\n",
    "\n",
    "** Initially, the graph is fully connected and masked, so in the paper they only keep the masked node to be denoised during the generation step. \n",
    "\n",
    "For now, we will just use the whole graph as well."
   ]
  },
  {
   "cell_type": "code",
   "execution_count": 11,
   "metadata": {},
   "outputs": [],
   "source": [
    "'''\n",
    "Message passing\n",
    "Custom message passing function\n",
    "'''\n",
    "from torch import nn\n",
    "from torch_geometric.nn import MessagePassing, GATConv\n",
    "from torch_geometric.utils import add_self_loops, degree\n",
    "from torch.nn import functional as F\n"
   ]
  },
  {
   "cell_type": "markdown",
   "metadata": {},
   "source": [
    "Make sure attentive message passing is done correctly.\n",
    "\n",
    "\n",
    "![Alt text](media/image.png)"
   ]
  },
  {
   "cell_type": "code",
   "execution_count": 12,
   "metadata": {},
   "outputs": [],
   "source": [
    "\n",
    "from torch.nn import Linear, Parameter\n",
    "class MessagePassingLayer(MessagePassing):\n",
    "    def __init__(self, in_channels, out_channels):\n",
    "        super(MessagePassingLayer, self).__init__(aggr='mean', flow=\"target_to_source\")  # 'add' aggregation for simplicity\n",
    "\n",
    "        self.W = nn.Linear(in_channels, out_channels)\n",
    "        # self.attention = nn.Linear(2 * in_channels, attention_dim) # TODO add attention mechanism\n",
    "        self.bias = Parameter(torch.empty(out_channels))\n",
    "        self.reset_parameters()\n",
    "\n",
    "    def reset_parameters(self):\n",
    "        self.W.reset_parameters()\n",
    "        self.bias.data.zero_()\n",
    "\n",
    "    def message(self, x_j, norm):\n",
    "        # x_j has shape [E, out_channels]\n",
    "\n",
    "        # Step 4: Normalize node features.\n",
    "        return norm.view(-1, 1) * x_j # TODO change to adapt attention mechanism\n",
    "    \n",
    "    \n",
    "    def forward(self, x, edge_index):\n",
    "        edge_index, _ = add_self_loops(edge_index, num_nodes=x.size(0))\n",
    "        row, col = edge_index\n",
    "        deg = degree(col, x.size(0), dtype=x.dtype)\n",
    "        deg_inv_sqrt = deg.pow(-0.5)\n",
    "        norm = deg_inv_sqrt[row] * deg_inv_sqrt[col]\n",
    "\n",
    "        # Attention mechanism\n",
    "        # alpha = F.softmax(self.attention(torch.cat([x[row], x[col]], dim=-1)), dim=-1)\n",
    "        # alpha = F.dropout(alpha, p=0.5)\n",
    "        # messages = alpha.view(-1, 1) * edge_attr\n",
    "        # messages = scatter_add(messages, col, dim=0, dim_size=x.size(0))\n",
    "\n",
    "        # h = self.W(torch.cat([x, messages], dim=-1))\n",
    "\n",
    "        out = self.propagate(edge_index, x=x, norm=norm) # , edge_attr=edge_attr\n",
    "        out += self.bias\n",
    "\n",
    "        return out\n",
    "    \n",
    "\n",
    "class DenoisingNetwork(nn.Module):\n",
    "    def __init__(self,\n",
    "                 node_feature_dim,\n",
    "                 num_node_types,\n",
    "                 num_edge_types,\n",
    "                 num_layers,\n",
    "                 out_channels):\n",
    "        super(DenoisingNetwork, self).__init__()\n",
    "\n",
    "        self.embedding_layer = nn.Embedding(num_embeddings=num_node_types, embedding_dim=node_feature_dim)\n",
    "\n",
    "        print(node_feature_dim, num_node_types, num_edge_types, num_layers, out_channels)\n",
    "        self.message_passing_layers = nn.ModuleList([\n",
    "            GATConv(node_feature_dim, node_feature_dim, heads=1, dropout=0.6) for _ in range(num_layers)\n",
    "        ])\n",
    "        # TODO use models.GAT network instead of GATConv layers separately.\n",
    "        \n",
    "        # Node type prediction\n",
    "        self.node_type_prediction = nn.Linear(node_feature_dim, out_channels)\n",
    "        \n",
    "        # Edge type prediction\n",
    "        self.edge_type_prediction = nn.Linear(node_feature_dim, out_channels)\n",
    "\n",
    "    def forward(self, data):\n",
    "        x, edge_index, edge_attr = data.x, data.edge_index, data.edge_attr\n",
    "\n",
    "        x = x.squeeze()\n",
    "        # Make sure x is float\n",
    "        x = x.long()\n",
    "        edge_index = edge_index.long()\n",
    "\n",
    "\n",
    "        h = self.embedding_layer(x)\n",
    "\n",
    "        for layer in self.message_passing_layers:\n",
    "\n",
    "            h = layer(h, edge_index, edge_attr)\n",
    "\n",
    "        # Node type prediction\n",
    "        node_type_logits = self.node_type_prediction(h)\n",
    "        # node_type_probs = F.softmax(node_type_logits, dim=-1)  # TODO Applying softmax for the multinomial distribution\n",
    "        # TODO Apply multinomial distribution\n",
    "\n",
    "\n",
    "        # Edge type prediction\n",
    "        edge_type_logits = self.edge_type_prediction(h)\n",
    "        # edge_type_probs = F.softmax(edge_type_logits, dim=-1)  # TODO Applying softmax for the multinomial distribution\n",
    "        # TODO Apply multinomial distribution\n",
    "\n",
    "        return node_type_logits, edge_type_logits\n"
   ]
  },
  {
   "cell_type": "code",
   "execution_count": 77,
   "metadata": {},
   "outputs": [
    {
     "name": "stdout",
     "output_type": "stream",
     "text": [
      "1 218363 3 10 1\n"
     ]
    }
   ],
   "source": [
    "num_layers = 10\n",
    "# num_features\n",
    "dn = DenoisingNetwork(\n",
    "    node_feature_dim=dataset.num_features,\n",
    "    num_node_types=dataset.num_classes+1,\n",
    "    num_edge_types=3,\n",
    "    num_layers=num_layers,\n",
    "    out_channels=1\n",
    ")"
   ]
  },
  {
   "cell_type": "code",
   "execution_count": 78,
   "metadata": {},
   "outputs": [
    {
     "data": {
      "text/plain": [
       "torch.Size([22, 1])"
      ]
     },
     "execution_count": 78,
     "metadata": {},
     "output_type": "execute_result"
    }
   ],
   "source": [
    "p = point.clone()\n",
    "pred_x, pred_edges = dn(p)\n",
    "pred_edges.shape # connections of new node to all previous nodes"
   ]
  },
  {
   "cell_type": "markdown",
   "metadata": {},
   "source": [
    "## Training\n",
    "\n",
    "For now, use MSE / Reconstruction error instead of loss function from the paper.\n",
    "\n",
    "\n",
    "Optimize by sampling multiple ($M$) diffusion trajectories, thereby enabling training both the diffusion ordering network $q_ϕ(σ|G_0)$ and the denoising network\n",
    "$p_θ(Gt|G_t+1)$ using gradient descent.\n",
    "\n",
    "Create M trajectories (sequence of graphs) for each training graph. Where node decay order is sampled from $q_ϕ(σ|G_0)$ (or random, initially).\n",
    "\n",
    "Train denoising network to minimize the negative VLB using SGD.\n",
    "\n",
    "Diffusion ordering network can be updated with common RL optimization methods, e.g., the REINFORCE algorithm. Creating M trajectories and computing the negative VLB to obtain rewards, and then updating the parameters of the diffusion ordering network using the REINFORCE algorithm."
   ]
  },
  {
   "cell_type": "code",
   "execution_count": 89,
   "metadata": {},
   "outputs": [
    {
     "name": "stdout",
     "output_type": "stream",
     "text": [
      "1 218363 3 0 1\n"
     ]
    },
    {
     "data": {
      "text/html": [
       "Finishing last run (ID:jdh61n1r) before initializing another..."
      ],
      "text/plain": [
       "<IPython.core.display.HTML object>"
      ]
     },
     "metadata": {},
     "output_type": "display_data"
    },
    {
     "data": {
      "text/html": [
       "Waiting for W&B process to finish... <strong style=\"color:green\">(success).</strong>"
      ],
      "text/plain": [
       "<IPython.core.display.HTML object>"
      ]
     },
     "metadata": {},
     "output_type": "display_data"
    },
    {
     "data": {
      "text/html": [
       "<style>\n",
       "    table.wandb td:nth-child(1) { padding: 0 10px; text-align: left ; width: auto;} td:nth-child(2) {text-align: left ; width: 100%}\n",
       "    .wandb-row { display: flex; flex-direction: row; flex-wrap: wrap; justify-content: flex-start; width: 100% }\n",
       "    .wandb-col { display: flex; flex-direction: column; flex-basis: 100%; flex: 1; padding: 10px; }\n",
       "    </style>\n",
       "<div class=\"wandb-row\"><div class=\"wandb-col\"><h3>Run history:</h3><br/><table class=\"wandb\"><tr><td>loss</td><td>▂▁▁▁▁▁▁▄▃▁▁▁▁▁▁▁▂▂▁▁▂▁▁▁▄▁▂▃█▁▂▃▁▃▁▁▁▁▁▁</td></tr></table><br/></div><div class=\"wandb-col\"><h3>Run summary:</h3><br/><table class=\"wandb\"><tr><td>loss</td><td>0.03957</td></tr></table><br/></div></div>"
      ],
      "text/plain": [
       "<IPython.core.display.HTML object>"
      ]
     },
     "metadata": {},
     "output_type": "display_data"
    },
    {
     "data": {
      "text/html": [
       " View run <strong style=\"color:#cdcd00\">overfit_sample_right_mse_zerograd</strong> at: <a href='https://wandb.ai/caiofreitas/ARGD/runs/jdh61n1r' target=\"_blank\">https://wandb.ai/caiofreitas/ARGD/runs/jdh61n1r</a><br/>Synced 6 W&B file(s), 0 media file(s), 0 artifact file(s) and 0 other file(s)"
      ],
      "text/plain": [
       "<IPython.core.display.HTML object>"
      ]
     },
     "metadata": {},
     "output_type": "display_data"
    },
    {
     "data": {
      "text/html": [
       "Find logs at: <code>./wandb/run-20231023_225311-jdh61n1r/logs</code>"
      ],
      "text/plain": [
       "<IPython.core.display.HTML object>"
      ]
     },
     "metadata": {},
     "output_type": "display_data"
    },
    {
     "data": {
      "text/html": [
       "Successfully finished last run (ID:jdh61n1r). Initializing new run:<br/>"
      ],
      "text/plain": [
       "<IPython.core.display.HTML object>"
      ]
     },
     "metadata": {},
     "output_type": "display_data"
    },
    {
     "data": {
      "text/html": [
       "wandb version 0.15.12 is available!  To upgrade, please run:\n",
       " $ pip install wandb --upgrade"
      ],
      "text/plain": [
       "<IPython.core.display.HTML object>"
      ]
     },
     "metadata": {},
     "output_type": "display_data"
    },
    {
     "data": {
      "text/html": [
       "Tracking run with wandb version 0.15.4"
      ],
      "text/plain": [
       "<IPython.core.display.HTML object>"
      ]
     },
     "metadata": {},
     "output_type": "display_data"
    },
    {
     "data": {
      "text/html": [
       "Run data is saved locally in <code>/home/caio/workspace/GraphDiffusionImitate/notebooks/wandb/run-20231023_230938-za68cytm</code>"
      ],
      "text/plain": [
       "<IPython.core.display.HTML object>"
      ]
     },
     "metadata": {},
     "output_type": "display_data"
    },
    {
     "data": {
      "text/html": [
       "Syncing run <strong><a href='https://wandb.ai/caiofreitas/ARGD/runs/za68cytm' target=\"_blank\">overfit_sample_right_mse_zerograd</a></strong> to <a href='https://wandb.ai/caiofreitas/ARGD' target=\"_blank\">Weights & Biases</a> (<a href='https://wandb.me/run' target=\"_blank\">docs</a>)<br/>"
      ],
      "text/plain": [
       "<IPython.core.display.HTML object>"
      ]
     },
     "metadata": {},
     "output_type": "display_data"
    },
    {
     "data": {
      "text/html": [
       " View project at <a href='https://wandb.ai/caiofreitas/ARGD' target=\"_blank\">https://wandb.ai/caiofreitas/ARGD</a>"
      ],
      "text/plain": [
       "<IPython.core.display.HTML object>"
      ]
     },
     "metadata": {},
     "output_type": "display_data"
    },
    {
     "data": {
      "text/html": [
       " View run at <a href='https://wandb.ai/caiofreitas/ARGD/runs/za68cytm' target=\"_blank\">https://wandb.ai/caiofreitas/ARGD/runs/za68cytm</a>"
      ],
      "text/plain": [
       "<IPython.core.display.HTML object>"
      ]
     },
     "metadata": {},
     "output_type": "display_data"
    },
    {
     "name": "stderr",
     "output_type": "stream",
     "text": [
      "Epoch: 49, Loss: 0.0002: 100%|██████████| 50/50 [00:48<00:00,  1.03it/s]\n"
     ]
    },
    {
     "name": "stdout",
     "output_type": "stream",
     "text": [
      "1 218363 3 10 1\n"
     ]
    },
    {
     "data": {
      "text/html": [
       "Finishing last run (ID:za68cytm) before initializing another..."
      ],
      "text/plain": [
       "<IPython.core.display.HTML object>"
      ]
     },
     "metadata": {},
     "output_type": "display_data"
    },
    {
     "data": {
      "text/html": [
       "Waiting for W&B process to finish... <strong style=\"color:green\">(success).</strong>"
      ],
      "text/plain": [
       "<IPython.core.display.HTML object>"
      ]
     },
     "metadata": {},
     "output_type": "display_data"
    },
    {
     "data": {
      "text/html": [
       "<style>\n",
       "    table.wandb td:nth-child(1) { padding: 0 10px; text-align: left ; width: auto;} td:nth-child(2) {text-align: left ; width: 100%}\n",
       "    .wandb-row { display: flex; flex-direction: row; flex-wrap: wrap; justify-content: flex-start; width: 100% }\n",
       "    .wandb-col { display: flex; flex-direction: column; flex-basis: 100%; flex: 1; padding: 10px; }\n",
       "    </style>\n",
       "<div class=\"wandb-row\"><div class=\"wandb-col\"><h3>Run history:</h3><br/><table class=\"wandb\"><tr><td>loss</td><td>▄▁▁▁▁▂▁▇▆▃▂▁▁▁▁▁▂▃▁▁▃▁▁▁▄▁▂▅█▁▁▃▁▅▁▁▁▁▂▁</td></tr></table><br/></div><div class=\"wandb-col\"><h3>Run summary:</h3><br/><table class=\"wandb\"><tr><td>loss</td><td>0.00018</td></tr></table><br/></div></div>"
      ],
      "text/plain": [
       "<IPython.core.display.HTML object>"
      ]
     },
     "metadata": {},
     "output_type": "display_data"
    },
    {
     "data": {
      "text/html": [
       " View run <strong style=\"color:#cdcd00\">overfit_sample_right_mse_zerograd</strong> at: <a href='https://wandb.ai/caiofreitas/ARGD/runs/za68cytm' target=\"_blank\">https://wandb.ai/caiofreitas/ARGD/runs/za68cytm</a><br/>Synced 6 W&B file(s), 0 media file(s), 0 artifact file(s) and 0 other file(s)"
      ],
      "text/plain": [
       "<IPython.core.display.HTML object>"
      ]
     },
     "metadata": {},
     "output_type": "display_data"
    },
    {
     "data": {
      "text/html": [
       "Find logs at: <code>./wandb/run-20231023_230938-za68cytm/logs</code>"
      ],
      "text/plain": [
       "<IPython.core.display.HTML object>"
      ]
     },
     "metadata": {},
     "output_type": "display_data"
    },
    {
     "data": {
      "text/html": [
       "Successfully finished last run (ID:za68cytm). Initializing new run:<br/>"
      ],
      "text/plain": [
       "<IPython.core.display.HTML object>"
      ]
     },
     "metadata": {},
     "output_type": "display_data"
    },
    {
     "data": {
      "text/html": [
       "wandb version 0.15.12 is available!  To upgrade, please run:\n",
       " $ pip install wandb --upgrade"
      ],
      "text/plain": [
       "<IPython.core.display.HTML object>"
      ]
     },
     "metadata": {},
     "output_type": "display_data"
    },
    {
     "data": {
      "text/html": [
       "Tracking run with wandb version 0.15.4"
      ],
      "text/plain": [
       "<IPython.core.display.HTML object>"
      ]
     },
     "metadata": {},
     "output_type": "display_data"
    },
    {
     "data": {
      "text/html": [
       "Run data is saved locally in <code>/home/caio/workspace/GraphDiffusionImitate/notebooks/wandb/run-20231023_231038-fip3p65m</code>"
      ],
      "text/plain": [
       "<IPython.core.display.HTML object>"
      ]
     },
     "metadata": {},
     "output_type": "display_data"
    },
    {
     "data": {
      "text/html": [
       "Syncing run <strong><a href='https://wandb.ai/caiofreitas/ARGD/runs/fip3p65m' target=\"_blank\">overfit_sample_right_mse_zerograd</a></strong> to <a href='https://wandb.ai/caiofreitas/ARGD' target=\"_blank\">Weights & Biases</a> (<a href='https://wandb.me/run' target=\"_blank\">docs</a>)<br/>"
      ],
      "text/plain": [
       "<IPython.core.display.HTML object>"
      ]
     },
     "metadata": {},
     "output_type": "display_data"
    },
    {
     "data": {
      "text/html": [
       " View project at <a href='https://wandb.ai/caiofreitas/ARGD' target=\"_blank\">https://wandb.ai/caiofreitas/ARGD</a>"
      ],
      "text/plain": [
       "<IPython.core.display.HTML object>"
      ]
     },
     "metadata": {},
     "output_type": "display_data"
    },
    {
     "data": {
      "text/html": [
       " View run at <a href='https://wandb.ai/caiofreitas/ARGD/runs/fip3p65m' target=\"_blank\">https://wandb.ai/caiofreitas/ARGD/runs/fip3p65m</a>"
      ],
      "text/plain": [
       "<IPython.core.display.HTML object>"
      ]
     },
     "metadata": {},
     "output_type": "display_data"
    },
    {
     "name": "stderr",
     "output_type": "stream",
     "text": [
      "Epoch: 49, Loss: 0.0229: 100%|██████████| 50/50 [02:43<00:00,  3.27s/it]\n"
     ]
    },
    {
     "name": "stdout",
     "output_type": "stream",
     "text": [
      "1 218363 3 20 1\n"
     ]
    },
    {
     "data": {
      "text/html": [
       "Finishing last run (ID:fip3p65m) before initializing another..."
      ],
      "text/plain": [
       "<IPython.core.display.HTML object>"
      ]
     },
     "metadata": {},
     "output_type": "display_data"
    },
    {
     "data": {
      "text/html": [
       "Waiting for W&B process to finish... <strong style=\"color:green\">(success).</strong>"
      ],
      "text/plain": [
       "<IPython.core.display.HTML object>"
      ]
     },
     "metadata": {},
     "output_type": "display_data"
    },
    {
     "data": {
      "text/html": [
       "<style>\n",
       "    table.wandb td:nth-child(1) { padding: 0 10px; text-align: left ; width: auto;} td:nth-child(2) {text-align: left ; width: 100%}\n",
       "    .wandb-row { display: flex; flex-direction: row; flex-wrap: wrap; justify-content: flex-start; width: 100% }\n",
       "    .wandb-col { display: flex; flex-direction: column; flex-basis: 100%; flex: 1; padding: 10px; }\n",
       "    </style>\n",
       "<div class=\"wandb-row\"><div class=\"wandb-col\"><h3>Run history:</h3><br/><table class=\"wandb\"><tr><td>loss</td><td>▃▁▁▁▁▁▁▅▄▂▁▁▁▁▁▁▂▂▁▁▂▁▁▁▄▁▂▃█▁▂▃▁▄▁▁▁▁▁▁</td></tr></table><br/></div><div class=\"wandb-col\"><h3>Run summary:</h3><br/><table class=\"wandb\"><tr><td>loss</td><td>0.02294</td></tr></table><br/></div></div>"
      ],
      "text/plain": [
       "<IPython.core.display.HTML object>"
      ]
     },
     "metadata": {},
     "output_type": "display_data"
    },
    {
     "data": {
      "text/html": [
       " View run <strong style=\"color:#cdcd00\">overfit_sample_right_mse_zerograd</strong> at: <a href='https://wandb.ai/caiofreitas/ARGD/runs/fip3p65m' target=\"_blank\">https://wandb.ai/caiofreitas/ARGD/runs/fip3p65m</a><br/>Synced 6 W&B file(s), 0 media file(s), 0 artifact file(s) and 0 other file(s)"
      ],
      "text/plain": [
       "<IPython.core.display.HTML object>"
      ]
     },
     "metadata": {},
     "output_type": "display_data"
    },
    {
     "data": {
      "text/html": [
       "Find logs at: <code>./wandb/run-20231023_231038-fip3p65m/logs</code>"
      ],
      "text/plain": [
       "<IPython.core.display.HTML object>"
      ]
     },
     "metadata": {},
     "output_type": "display_data"
    },
    {
     "data": {
      "text/html": [
       "Successfully finished last run (ID:fip3p65m). Initializing new run:<br/>"
      ],
      "text/plain": [
       "<IPython.core.display.HTML object>"
      ]
     },
     "metadata": {},
     "output_type": "display_data"
    },
    {
     "data": {
      "text/html": [
       "wandb version 0.15.12 is available!  To upgrade, please run:\n",
       " $ pip install wandb --upgrade"
      ],
      "text/plain": [
       "<IPython.core.display.HTML object>"
      ]
     },
     "metadata": {},
     "output_type": "display_data"
    },
    {
     "data": {
      "text/html": [
       "Tracking run with wandb version 0.15.4"
      ],
      "text/plain": [
       "<IPython.core.display.HTML object>"
      ]
     },
     "metadata": {},
     "output_type": "display_data"
    },
    {
     "data": {
      "text/html": [
       "Run data is saved locally in <code>/home/caio/workspace/GraphDiffusionImitate/notebooks/wandb/run-20231023_231332-x6fsfeqa</code>"
      ],
      "text/plain": [
       "<IPython.core.display.HTML object>"
      ]
     },
     "metadata": {},
     "output_type": "display_data"
    },
    {
     "data": {
      "text/html": [
       "Syncing run <strong><a href='https://wandb.ai/caiofreitas/ARGD/runs/x6fsfeqa' target=\"_blank\">overfit_sample_right_mse_zerograd</a></strong> to <a href='https://wandb.ai/caiofreitas/ARGD' target=\"_blank\">Weights & Biases</a> (<a href='https://wandb.me/run' target=\"_blank\">docs</a>)<br/>"
      ],
      "text/plain": [
       "<IPython.core.display.HTML object>"
      ]
     },
     "metadata": {},
     "output_type": "display_data"
    },
    {
     "data": {
      "text/html": [
       " View project at <a href='https://wandb.ai/caiofreitas/ARGD' target=\"_blank\">https://wandb.ai/caiofreitas/ARGD</a>"
      ],
      "text/plain": [
       "<IPython.core.display.HTML object>"
      ]
     },
     "metadata": {},
     "output_type": "display_data"
    },
    {
     "data": {
      "text/html": [
       " View run at <a href='https://wandb.ai/caiofreitas/ARGD/runs/x6fsfeqa' target=\"_blank\">https://wandb.ai/caiofreitas/ARGD/runs/x6fsfeqa</a>"
      ],
      "text/plain": [
       "<IPython.core.display.HTML object>"
      ]
     },
     "metadata": {},
     "output_type": "display_data"
    },
    {
     "name": "stderr",
     "output_type": "stream",
     "text": [
      "Epoch: 49, Loss: 0.0213: 100%|██████████| 50/50 [04:20<00:00,  5.20s/it]\n"
     ]
    },
    {
     "name": "stdout",
     "output_type": "stream",
     "text": [
      "1 218363 3 30 1\n"
     ]
    },
    {
     "data": {
      "text/html": [
       "Finishing last run (ID:x6fsfeqa) before initializing another..."
      ],
      "text/plain": [
       "<IPython.core.display.HTML object>"
      ]
     },
     "metadata": {},
     "output_type": "display_data"
    },
    {
     "data": {
      "text/html": [
       "Waiting for W&B process to finish... <strong style=\"color:green\">(success).</strong>"
      ],
      "text/plain": [
       "<IPython.core.display.HTML object>"
      ]
     },
     "metadata": {},
     "output_type": "display_data"
    },
    {
     "data": {
      "text/html": [
       "<style>\n",
       "    table.wandb td:nth-child(1) { padding: 0 10px; text-align: left ; width: auto;} td:nth-child(2) {text-align: left ; width: 100%}\n",
       "    .wandb-row { display: flex; flex-direction: row; flex-wrap: wrap; justify-content: flex-start; width: 100% }\n",
       "    .wandb-col { display: flex; flex-direction: column; flex-basis: 100%; flex: 1; padding: 10px; }\n",
       "    </style>\n",
       "<div class=\"wandb-row\"><div class=\"wandb-col\"><h3>Run history:</h3><br/><table class=\"wandb\"><tr><td>loss</td><td>▄▁▁▁▁▂▁▅▅▂▁▁▁▁▁▁▂▂▁▁▂▁▁▁▄▁▂▄█▁▂▃▁▄▁▁▁▁▁▁</td></tr></table><br/></div><div class=\"wandb-col\"><h3>Run summary:</h3><br/><table class=\"wandb\"><tr><td>loss</td><td>0.02132</td></tr></table><br/></div></div>"
      ],
      "text/plain": [
       "<IPython.core.display.HTML object>"
      ]
     },
     "metadata": {},
     "output_type": "display_data"
    },
    {
     "data": {
      "text/html": [
       " View run <strong style=\"color:#cdcd00\">overfit_sample_right_mse_zerograd</strong> at: <a href='https://wandb.ai/caiofreitas/ARGD/runs/x6fsfeqa' target=\"_blank\">https://wandb.ai/caiofreitas/ARGD/runs/x6fsfeqa</a><br/>Synced 6 W&B file(s), 0 media file(s), 0 artifact file(s) and 0 other file(s)"
      ],
      "text/plain": [
       "<IPython.core.display.HTML object>"
      ]
     },
     "metadata": {},
     "output_type": "display_data"
    },
    {
     "data": {
      "text/html": [
       "Find logs at: <code>./wandb/run-20231023_231332-x6fsfeqa/logs</code>"
      ],
      "text/plain": [
       "<IPython.core.display.HTML object>"
      ]
     },
     "metadata": {},
     "output_type": "display_data"
    },
    {
     "data": {
      "text/html": [
       "Successfully finished last run (ID:x6fsfeqa). Initializing new run:<br/>"
      ],
      "text/plain": [
       "<IPython.core.display.HTML object>"
      ]
     },
     "metadata": {},
     "output_type": "display_data"
    },
    {
     "data": {
      "text/html": [
       "wandb version 0.15.12 is available!  To upgrade, please run:\n",
       " $ pip install wandb --upgrade"
      ],
      "text/plain": [
       "<IPython.core.display.HTML object>"
      ]
     },
     "metadata": {},
     "output_type": "display_data"
    },
    {
     "data": {
      "text/html": [
       "Tracking run with wandb version 0.15.4"
      ],
      "text/plain": [
       "<IPython.core.display.HTML object>"
      ]
     },
     "metadata": {},
     "output_type": "display_data"
    },
    {
     "data": {
      "text/html": [
       "Run data is saved locally in <code>/home/caio/workspace/GraphDiffusionImitate/notebooks/wandb/run-20231023_231804-yfisg9ck</code>"
      ],
      "text/plain": [
       "<IPython.core.display.HTML object>"
      ]
     },
     "metadata": {},
     "output_type": "display_data"
    },
    {
     "data": {
      "text/html": [
       "Syncing run <strong><a href='https://wandb.ai/caiofreitas/ARGD/runs/yfisg9ck' target=\"_blank\">overfit_sample_right_mse_zerograd</a></strong> to <a href='https://wandb.ai/caiofreitas/ARGD' target=\"_blank\">Weights & Biases</a> (<a href='https://wandb.me/run' target=\"_blank\">docs</a>)<br/>"
      ],
      "text/plain": [
       "<IPython.core.display.HTML object>"
      ]
     },
     "metadata": {},
     "output_type": "display_data"
    },
    {
     "data": {
      "text/html": [
       " View project at <a href='https://wandb.ai/caiofreitas/ARGD' target=\"_blank\">https://wandb.ai/caiofreitas/ARGD</a>"
      ],
      "text/plain": [
       "<IPython.core.display.HTML object>"
      ]
     },
     "metadata": {},
     "output_type": "display_data"
    },
    {
     "data": {
      "text/html": [
       " View run at <a href='https://wandb.ai/caiofreitas/ARGD/runs/yfisg9ck' target=\"_blank\">https://wandb.ai/caiofreitas/ARGD/runs/yfisg9ck</a>"
      ],
      "text/plain": [
       "<IPython.core.display.HTML object>"
      ]
     },
     "metadata": {},
     "output_type": "display_data"
    },
    {
     "name": "stderr",
     "output_type": "stream",
     "text": [
      "Epoch: 49, Loss: 0.0085: 100%|██████████| 50/50 [05:41<00:00,  6.84s/it]\n"
     ]
    },
    {
     "name": "stdout",
     "output_type": "stream",
     "text": [
      "1 218363 3 40 1\n"
     ]
    },
    {
     "data": {
      "text/html": [
       "Finishing last run (ID:yfisg9ck) before initializing another..."
      ],
      "text/plain": [
       "<IPython.core.display.HTML object>"
      ]
     },
     "metadata": {},
     "output_type": "display_data"
    },
    {
     "data": {
      "text/html": [
       "Waiting for W&B process to finish... <strong style=\"color:green\">(success).</strong>"
      ],
      "text/plain": [
       "<IPython.core.display.HTML object>"
      ]
     },
     "metadata": {},
     "output_type": "display_data"
    },
    {
     "data": {
      "text/html": [
       "<style>\n",
       "    table.wandb td:nth-child(1) { padding: 0 10px; text-align: left ; width: auto;} td:nth-child(2) {text-align: left ; width: 100%}\n",
       "    .wandb-row { display: flex; flex-direction: row; flex-wrap: wrap; justify-content: flex-start; width: 100% }\n",
       "    .wandb-col { display: flex; flex-direction: column; flex-basis: 100%; flex: 1; padding: 10px; }\n",
       "    </style>\n",
       "<div class=\"wandb-row\"><div class=\"wandb-col\"><h3>Run history:</h3><br/><table class=\"wandb\"><tr><td>loss</td><td>▄▁▁▁▁▂▁▆▅▃▂▁▁▁▁▁▂▃▁▁▂▁▁▁▄▁▂▄█▁▂▃▁▄▁▁▁▁▁▁</td></tr></table><br/></div><div class=\"wandb-col\"><h3>Run summary:</h3><br/><table class=\"wandb\"><tr><td>loss</td><td>0.00845</td></tr></table><br/></div></div>"
      ],
      "text/plain": [
       "<IPython.core.display.HTML object>"
      ]
     },
     "metadata": {},
     "output_type": "display_data"
    },
    {
     "data": {
      "text/html": [
       " View run <strong style=\"color:#cdcd00\">overfit_sample_right_mse_zerograd</strong> at: <a href='https://wandb.ai/caiofreitas/ARGD/runs/yfisg9ck' target=\"_blank\">https://wandb.ai/caiofreitas/ARGD/runs/yfisg9ck</a><br/>Synced 6 W&B file(s), 0 media file(s), 0 artifact file(s) and 0 other file(s)"
      ],
      "text/plain": [
       "<IPython.core.display.HTML object>"
      ]
     },
     "metadata": {},
     "output_type": "display_data"
    },
    {
     "data": {
      "text/html": [
       "Find logs at: <code>./wandb/run-20231023_231804-yfisg9ck/logs</code>"
      ],
      "text/plain": [
       "<IPython.core.display.HTML object>"
      ]
     },
     "metadata": {},
     "output_type": "display_data"
    },
    {
     "data": {
      "text/html": [
       "Successfully finished last run (ID:yfisg9ck). Initializing new run:<br/>"
      ],
      "text/plain": [
       "<IPython.core.display.HTML object>"
      ]
     },
     "metadata": {},
     "output_type": "display_data"
    },
    {
     "data": {
      "text/html": [
       "wandb version 0.15.12 is available!  To upgrade, please run:\n",
       " $ pip install wandb --upgrade"
      ],
      "text/plain": [
       "<IPython.core.display.HTML object>"
      ]
     },
     "metadata": {},
     "output_type": "display_data"
    },
    {
     "data": {
      "text/html": [
       "Tracking run with wandb version 0.15.4"
      ],
      "text/plain": [
       "<IPython.core.display.HTML object>"
      ]
     },
     "metadata": {},
     "output_type": "display_data"
    },
    {
     "data": {
      "text/html": [
       "Run data is saved locally in <code>/home/caio/workspace/GraphDiffusionImitate/notebooks/wandb/run-20231023_232400-yru94lw6</code>"
      ],
      "text/plain": [
       "<IPython.core.display.HTML object>"
      ]
     },
     "metadata": {},
     "output_type": "display_data"
    },
    {
     "data": {
      "text/html": [
       "Syncing run <strong><a href='https://wandb.ai/caiofreitas/ARGD/runs/yru94lw6' target=\"_blank\">overfit_sample_right_mse_zerograd</a></strong> to <a href='https://wandb.ai/caiofreitas/ARGD' target=\"_blank\">Weights & Biases</a> (<a href='https://wandb.me/run' target=\"_blank\">docs</a>)<br/>"
      ],
      "text/plain": [
       "<IPython.core.display.HTML object>"
      ]
     },
     "metadata": {},
     "output_type": "display_data"
    },
    {
     "data": {
      "text/html": [
       " View project at <a href='https://wandb.ai/caiofreitas/ARGD' target=\"_blank\">https://wandb.ai/caiofreitas/ARGD</a>"
      ],
      "text/plain": [
       "<IPython.core.display.HTML object>"
      ]
     },
     "metadata": {},
     "output_type": "display_data"
    },
    {
     "data": {
      "text/html": [
       " View run at <a href='https://wandb.ai/caiofreitas/ARGD/runs/yru94lw6' target=\"_blank\">https://wandb.ai/caiofreitas/ARGD/runs/yru94lw6</a>"
      ],
      "text/plain": [
       "<IPython.core.display.HTML object>"
      ]
     },
     "metadata": {},
     "output_type": "display_data"
    },
    {
     "name": "stderr",
     "output_type": "stream",
     "text": [
      "Epoch: 49, Loss: 0.0171: 100%|██████████| 50/50 [06:54<00:00,  8.29s/it]\n"
     ]
    },
    {
     "name": "stdout",
     "output_type": "stream",
     "text": [
      "1 218363 3 50 1\n"
     ]
    },
    {
     "data": {
      "text/html": [
       "Finishing last run (ID:yru94lw6) before initializing another..."
      ],
      "text/plain": [
       "<IPython.core.display.HTML object>"
      ]
     },
     "metadata": {},
     "output_type": "display_data"
    },
    {
     "data": {
      "text/html": [
       "Waiting for W&B process to finish... <strong style=\"color:green\">(success).</strong>"
      ],
      "text/plain": [
       "<IPython.core.display.HTML object>"
      ]
     },
     "metadata": {},
     "output_type": "display_data"
    },
    {
     "data": {
      "text/html": [
       "<style>\n",
       "    table.wandb td:nth-child(1) { padding: 0 10px; text-align: left ; width: auto;} td:nth-child(2) {text-align: left ; width: 100%}\n",
       "    .wandb-row { display: flex; flex-direction: row; flex-wrap: wrap; justify-content: flex-start; width: 100% }\n",
       "    .wandb-col { display: flex; flex-direction: column; flex-basis: 100%; flex: 1; padding: 10px; }\n",
       "    </style>\n",
       "<div class=\"wandb-row\"><div class=\"wandb-col\"><h3>Run history:</h3><br/><table class=\"wandb\"><tr><td>loss</td><td>▃▁▁▁▁▂▁▅▅▂▁▁▁▁▁▁▂▃▁▁▂▁▁▁▄▁▂▃█▁▂▃▁▄▁▁▁▁▁▁</td></tr></table><br/></div><div class=\"wandb-col\"><h3>Run summary:</h3><br/><table class=\"wandb\"><tr><td>loss</td><td>0.01715</td></tr></table><br/></div></div>"
      ],
      "text/plain": [
       "<IPython.core.display.HTML object>"
      ]
     },
     "metadata": {},
     "output_type": "display_data"
    },
    {
     "data": {
      "text/html": [
       " View run <strong style=\"color:#cdcd00\">overfit_sample_right_mse_zerograd</strong> at: <a href='https://wandb.ai/caiofreitas/ARGD/runs/yru94lw6' target=\"_blank\">https://wandb.ai/caiofreitas/ARGD/runs/yru94lw6</a><br/>Synced 6 W&B file(s), 0 media file(s), 0 artifact file(s) and 0 other file(s)"
      ],
      "text/plain": [
       "<IPython.core.display.HTML object>"
      ]
     },
     "metadata": {},
     "output_type": "display_data"
    },
    {
     "data": {
      "text/html": [
       "Find logs at: <code>./wandb/run-20231023_232400-yru94lw6/logs</code>"
      ],
      "text/plain": [
       "<IPython.core.display.HTML object>"
      ]
     },
     "metadata": {},
     "output_type": "display_data"
    },
    {
     "data": {
      "text/html": [
       "Successfully finished last run (ID:yru94lw6). Initializing new run:<br/>"
      ],
      "text/plain": [
       "<IPython.core.display.HTML object>"
      ]
     },
     "metadata": {},
     "output_type": "display_data"
    },
    {
     "data": {
      "text/html": [
       "wandb version 0.15.12 is available!  To upgrade, please run:\n",
       " $ pip install wandb --upgrade"
      ],
      "text/plain": [
       "<IPython.core.display.HTML object>"
      ]
     },
     "metadata": {},
     "output_type": "display_data"
    },
    {
     "data": {
      "text/html": [
       "Tracking run with wandb version 0.15.4"
      ],
      "text/plain": [
       "<IPython.core.display.HTML object>"
      ]
     },
     "metadata": {},
     "output_type": "display_data"
    },
    {
     "data": {
      "text/html": [
       "Run data is saved locally in <code>/home/caio/workspace/GraphDiffusionImitate/notebooks/wandb/run-20231023_233113-z3glbi42</code>"
      ],
      "text/plain": [
       "<IPython.core.display.HTML object>"
      ]
     },
     "metadata": {},
     "output_type": "display_data"
    },
    {
     "data": {
      "text/html": [
       "Syncing run <strong><a href='https://wandb.ai/caiofreitas/ARGD/runs/z3glbi42' target=\"_blank\">overfit_sample_right_mse_zerograd</a></strong> to <a href='https://wandb.ai/caiofreitas/ARGD' target=\"_blank\">Weights & Biases</a> (<a href='https://wandb.me/run' target=\"_blank\">docs</a>)<br/>"
      ],
      "text/plain": [
       "<IPython.core.display.HTML object>"
      ]
     },
     "metadata": {},
     "output_type": "display_data"
    },
    {
     "data": {
      "text/html": [
       " View project at <a href='https://wandb.ai/caiofreitas/ARGD' target=\"_blank\">https://wandb.ai/caiofreitas/ARGD</a>"
      ],
      "text/plain": [
       "<IPython.core.display.HTML object>"
      ]
     },
     "metadata": {},
     "output_type": "display_data"
    },
    {
     "data": {
      "text/html": [
       " View run at <a href='https://wandb.ai/caiofreitas/ARGD/runs/z3glbi42' target=\"_blank\">https://wandb.ai/caiofreitas/ARGD/runs/z3glbi42</a>"
      ],
      "text/plain": [
       "<IPython.core.display.HTML object>"
      ]
     },
     "metadata": {},
     "output_type": "display_data"
    },
    {
     "name": "stderr",
     "output_type": "stream",
     "text": [
      "Epoch: 49, Loss: 0.0025: 100%|██████████| 50/50 [08:25<00:00, 10.11s/it]\n"
     ]
    },
    {
     "name": "stdout",
     "output_type": "stream",
     "text": [
      "1 218363 3 60 1\n"
     ]
    },
    {
     "data": {
      "text/html": [
       "Finishing last run (ID:z3glbi42) before initializing another..."
      ],
      "text/plain": [
       "<IPython.core.display.HTML object>"
      ]
     },
     "metadata": {},
     "output_type": "display_data"
    },
    {
     "data": {
      "text/html": [
       "Waiting for W&B process to finish... <strong style=\"color:green\">(success).</strong>"
      ],
      "text/plain": [
       "<IPython.core.display.HTML object>"
      ]
     },
     "metadata": {},
     "output_type": "display_data"
    },
    {
     "data": {
      "text/html": [
       "<style>\n",
       "    table.wandb td:nth-child(1) { padding: 0 10px; text-align: left ; width: auto;} td:nth-child(2) {text-align: left ; width: 100%}\n",
       "    .wandb-row { display: flex; flex-direction: row; flex-wrap: wrap; justify-content: flex-start; width: 100% }\n",
       "    .wandb-col { display: flex; flex-direction: column; flex-basis: 100%; flex: 1; padding: 10px; }\n",
       "    </style>\n",
       "<div class=\"wandb-row\"><div class=\"wandb-col\"><h3>Run history:</h3><br/><table class=\"wandb\"><tr><td>loss</td><td>▄▁▁▁▁▂▁▆▆▂▂▁▁▁▁▁▂▃▁▁▂▁▁▁▄▁▂▄█▁▁▃▁▃▁▁▁▁▁▁</td></tr></table><br/></div><div class=\"wandb-col\"><h3>Run summary:</h3><br/><table class=\"wandb\"><tr><td>loss</td><td>0.00255</td></tr></table><br/></div></div>"
      ],
      "text/plain": [
       "<IPython.core.display.HTML object>"
      ]
     },
     "metadata": {},
     "output_type": "display_data"
    },
    {
     "data": {
      "text/html": [
       " View run <strong style=\"color:#cdcd00\">overfit_sample_right_mse_zerograd</strong> at: <a href='https://wandb.ai/caiofreitas/ARGD/runs/z3glbi42' target=\"_blank\">https://wandb.ai/caiofreitas/ARGD/runs/z3glbi42</a><br/>Synced 6 W&B file(s), 0 media file(s), 0 artifact file(s) and 0 other file(s)"
      ],
      "text/plain": [
       "<IPython.core.display.HTML object>"
      ]
     },
     "metadata": {},
     "output_type": "display_data"
    },
    {
     "data": {
      "text/html": [
       "Find logs at: <code>./wandb/run-20231023_233113-z3glbi42/logs</code>"
      ],
      "text/plain": [
       "<IPython.core.display.HTML object>"
      ]
     },
     "metadata": {},
     "output_type": "display_data"
    },
    {
     "data": {
      "text/html": [
       "Successfully finished last run (ID:z3glbi42). Initializing new run:<br/>"
      ],
      "text/plain": [
       "<IPython.core.display.HTML object>"
      ]
     },
     "metadata": {},
     "output_type": "display_data"
    },
    {
     "data": {
      "text/html": [
       "wandb version 0.15.12 is available!  To upgrade, please run:\n",
       " $ pip install wandb --upgrade"
      ],
      "text/plain": [
       "<IPython.core.display.HTML object>"
      ]
     },
     "metadata": {},
     "output_type": "display_data"
    },
    {
     "data": {
      "text/html": [
       "Tracking run with wandb version 0.15.4"
      ],
      "text/plain": [
       "<IPython.core.display.HTML object>"
      ]
     },
     "metadata": {},
     "output_type": "display_data"
    },
    {
     "data": {
      "text/html": [
       "Run data is saved locally in <code>/home/caio/workspace/GraphDiffusionImitate/notebooks/wandb/run-20231023_233957-w0leozju</code>"
      ],
      "text/plain": [
       "<IPython.core.display.HTML object>"
      ]
     },
     "metadata": {},
     "output_type": "display_data"
    },
    {
     "data": {
      "text/html": [
       "Syncing run <strong><a href='https://wandb.ai/caiofreitas/ARGD/runs/w0leozju' target=\"_blank\">overfit_sample_right_mse_zerograd</a></strong> to <a href='https://wandb.ai/caiofreitas/ARGD' target=\"_blank\">Weights & Biases</a> (<a href='https://wandb.me/run' target=\"_blank\">docs</a>)<br/>"
      ],
      "text/plain": [
       "<IPython.core.display.HTML object>"
      ]
     },
     "metadata": {},
     "output_type": "display_data"
    },
    {
     "data": {
      "text/html": [
       " View project at <a href='https://wandb.ai/caiofreitas/ARGD' target=\"_blank\">https://wandb.ai/caiofreitas/ARGD</a>"
      ],
      "text/plain": [
       "<IPython.core.display.HTML object>"
      ]
     },
     "metadata": {},
     "output_type": "display_data"
    },
    {
     "data": {
      "text/html": [
       " View run at <a href='https://wandb.ai/caiofreitas/ARGD/runs/w0leozju' target=\"_blank\">https://wandb.ai/caiofreitas/ARGD/runs/w0leozju</a>"
      ],
      "text/plain": [
       "<IPython.core.display.HTML object>"
      ]
     },
     "metadata": {},
     "output_type": "display_data"
    },
    {
     "name": "stderr",
     "output_type": "stream",
     "text": [
      "Epoch: 4, Loss: 0.0104:   8%|▊         | 4/50 [00:51<09:50, 12.83s/it]\n"
     ]
    },
    {
     "ename": "KeyboardInterrupt",
     "evalue": "",
     "output_type": "error",
     "traceback": [
      "\u001b[0;31m---------------------------------------------------------------------------\u001b[0m",
      "\u001b[0;31mKeyboardInterrupt\u001b[0m                         Traceback (most recent call last)",
      "\u001b[1;32m/home/caio/workspace/GraphDiffusionImitate/notebooks/ARGD.ipynb Cell 19\u001b[0m line \u001b[0;36m1\n\u001b[1;32m     <a href='vscode-notebook-cell:/home/caio/workspace/GraphDiffusionImitate/notebooks/ARGD.ipynb#X26sZmlsZQ%3D%3D?line=97'>98</a>\u001b[0m loss\u001b[39m.\u001b[39mbackward()\n\u001b[1;32m    <a href='vscode-notebook-cell:/home/caio/workspace/GraphDiffusionImitate/notebooks/ARGD.ipynb#X26sZmlsZQ%3D%3D?line=99'>100</a>\u001b[0m \u001b[39m# DEBUG if gradients are not None\u001b[39;00m\n\u001b[1;32m    <a href='vscode-notebook-cell:/home/caio/workspace/GraphDiffusionImitate/notebooks/ARGD.ipynb#X26sZmlsZQ%3D%3D?line=100'>101</a>\u001b[0m \u001b[39m# for name, param in dn.named_parameters():\u001b[39;00m\n\u001b[1;32m    <a href='vscode-notebook-cell:/home/caio/workspace/GraphDiffusionImitate/notebooks/ARGD.ipynb#X26sZmlsZQ%3D%3D?line=101'>102</a>\u001b[0m \u001b[39m#     if param.grad != None and torch.sum(param.grad) != 0:\u001b[39;00m\n\u001b[1;32m    <a href='vscode-notebook-cell:/home/caio/workspace/GraphDiffusionImitate/notebooks/ARGD.ipynb#X26sZmlsZQ%3D%3D?line=102'>103</a>\u001b[0m \u001b[39m#         print(name, param.grad.shape, torch.sum(param.grad))\u001b[39;00m\n\u001b[1;32m    <a href='vscode-notebook-cell:/home/caio/workspace/GraphDiffusionImitate/notebooks/ARGD.ipynb#X26sZmlsZQ%3D%3D?line=103'>104</a>\u001b[0m \n\u001b[1;32m    <a href='vscode-notebook-cell:/home/caio/workspace/GraphDiffusionImitate/notebooks/ARGD.ipynb#X26sZmlsZQ%3D%3D?line=104'>105</a>\u001b[0m \u001b[39m# update parameters\u001b[39;00m\n\u001b[0;32m--> <a href='vscode-notebook-cell:/home/caio/workspace/GraphDiffusionImitate/notebooks/ARGD.ipynb#X26sZmlsZQ%3D%3D?line=105'>106</a>\u001b[0m optimizer\u001b[39m.\u001b[39;49mstep()\n\u001b[1;32m    <a href='vscode-notebook-cell:/home/caio/workspace/GraphDiffusionImitate/notebooks/ARGD.ipynb#X26sZmlsZQ%3D%3D?line=106'>107</a>\u001b[0m \u001b[39m# log loss\u001b[39;00m\n\u001b[1;32m    <a href='vscode-notebook-cell:/home/caio/workspace/GraphDiffusionImitate/notebooks/ARGD.ipynb#X26sZmlsZQ%3D%3D?line=107'>108</a>\u001b[0m pbar\u001b[39m.\u001b[39mset_description(\u001b[39mf\u001b[39m\u001b[39m\"\u001b[39m\u001b[39mEpoch: \u001b[39m\u001b[39m{\u001b[39;00mbatch\u001b[39m}\u001b[39;00m\u001b[39m, Loss: \u001b[39m\u001b[39m{\u001b[39;00mloss\u001b[39m.\u001b[39mitem()\u001b[39m%\u001b[39m\u001b[39m10\u001b[39m\u001b[39m:\u001b[39;00m\u001b[39m.4f\u001b[39m\u001b[39m}\u001b[39;00m\u001b[39m\"\u001b[39m)\n",
      "File \u001b[0;32m~/.local/lib/python3.8/site-packages/torch/optim/optimizer.py:113\u001b[0m, in \u001b[0;36mOptimizer._hook_for_profile.<locals>.profile_hook_step.<locals>.wrapper\u001b[0;34m(*args, **kwargs)\u001b[0m\n\u001b[1;32m    111\u001b[0m profile_name \u001b[39m=\u001b[39m \u001b[39m\"\u001b[39m\u001b[39mOptimizer.step#\u001b[39m\u001b[39m{}\u001b[39;00m\u001b[39m.step\u001b[39m\u001b[39m\"\u001b[39m\u001b[39m.\u001b[39mformat(obj\u001b[39m.\u001b[39m\u001b[39m__class__\u001b[39m\u001b[39m.\u001b[39m\u001b[39m__name__\u001b[39m)\n\u001b[1;32m    112\u001b[0m \u001b[39mwith\u001b[39;00m torch\u001b[39m.\u001b[39mautograd\u001b[39m.\u001b[39mprofiler\u001b[39m.\u001b[39mrecord_function(profile_name):\n\u001b[0;32m--> 113\u001b[0m     \u001b[39mreturn\u001b[39;00m func(\u001b[39m*\u001b[39;49margs, \u001b[39m*\u001b[39;49m\u001b[39m*\u001b[39;49mkwargs)\n",
      "File \u001b[0;32m~/.local/lib/python3.8/site-packages/torch/autograd/grad_mode.py:27\u001b[0m, in \u001b[0;36m_DecoratorContextManager.__call__.<locals>.decorate_context\u001b[0;34m(*args, **kwargs)\u001b[0m\n\u001b[1;32m     24\u001b[0m \u001b[39m@functools\u001b[39m\u001b[39m.\u001b[39mwraps(func)\n\u001b[1;32m     25\u001b[0m \u001b[39mdef\u001b[39;00m \u001b[39mdecorate_context\u001b[39m(\u001b[39m*\u001b[39margs, \u001b[39m*\u001b[39m\u001b[39m*\u001b[39mkwargs):\n\u001b[1;32m     26\u001b[0m     \u001b[39mwith\u001b[39;00m \u001b[39mself\u001b[39m\u001b[39m.\u001b[39mclone():\n\u001b[0;32m---> 27\u001b[0m         \u001b[39mreturn\u001b[39;00m func(\u001b[39m*\u001b[39;49margs, \u001b[39m*\u001b[39;49m\u001b[39m*\u001b[39;49mkwargs)\n",
      "File \u001b[0;32m~/.local/lib/python3.8/site-packages/torch/optim/adam.py:157\u001b[0m, in \u001b[0;36mAdam.step\u001b[0;34m(self, closure)\u001b[0m\n\u001b[1;32m    153\u001b[0m                 max_exp_avg_sqs\u001b[39m.\u001b[39mappend(state[\u001b[39m'\u001b[39m\u001b[39mmax_exp_avg_sq\u001b[39m\u001b[39m'\u001b[39m])\n\u001b[1;32m    155\u001b[0m             state_steps\u001b[39m.\u001b[39mappend(state[\u001b[39m'\u001b[39m\u001b[39mstep\u001b[39m\u001b[39m'\u001b[39m])\n\u001b[0;32m--> 157\u001b[0m     adam(params_with_grad,\n\u001b[1;32m    158\u001b[0m          grads,\n\u001b[1;32m    159\u001b[0m          exp_avgs,\n\u001b[1;32m    160\u001b[0m          exp_avg_sqs,\n\u001b[1;32m    161\u001b[0m          max_exp_avg_sqs,\n\u001b[1;32m    162\u001b[0m          state_steps,\n\u001b[1;32m    163\u001b[0m          amsgrad\u001b[39m=\u001b[39;49mgroup[\u001b[39m'\u001b[39;49m\u001b[39mamsgrad\u001b[39;49m\u001b[39m'\u001b[39;49m],\n\u001b[1;32m    164\u001b[0m          beta1\u001b[39m=\u001b[39;49mbeta1,\n\u001b[1;32m    165\u001b[0m          beta2\u001b[39m=\u001b[39;49mbeta2,\n\u001b[1;32m    166\u001b[0m          lr\u001b[39m=\u001b[39;49mgroup[\u001b[39m'\u001b[39;49m\u001b[39mlr\u001b[39;49m\u001b[39m'\u001b[39;49m],\n\u001b[1;32m    167\u001b[0m          weight_decay\u001b[39m=\u001b[39;49mgroup[\u001b[39m'\u001b[39;49m\u001b[39mweight_decay\u001b[39;49m\u001b[39m'\u001b[39;49m],\n\u001b[1;32m    168\u001b[0m          eps\u001b[39m=\u001b[39;49mgroup[\u001b[39m'\u001b[39;49m\u001b[39meps\u001b[39;49m\u001b[39m'\u001b[39;49m],\n\u001b[1;32m    169\u001b[0m          maximize\u001b[39m=\u001b[39;49mgroup[\u001b[39m'\u001b[39;49m\u001b[39mmaximize\u001b[39;49m\u001b[39m'\u001b[39;49m],\n\u001b[1;32m    170\u001b[0m          foreach\u001b[39m=\u001b[39;49mgroup[\u001b[39m'\u001b[39;49m\u001b[39mforeach\u001b[39;49m\u001b[39m'\u001b[39;49m],\n\u001b[1;32m    171\u001b[0m          capturable\u001b[39m=\u001b[39;49mgroup[\u001b[39m'\u001b[39;49m\u001b[39mcapturable\u001b[39;49m\u001b[39m'\u001b[39;49m])\n\u001b[1;32m    173\u001b[0m \u001b[39mreturn\u001b[39;00m loss\n",
      "File \u001b[0;32m~/.local/lib/python3.8/site-packages/torch/optim/adam.py:213\u001b[0m, in \u001b[0;36madam\u001b[0;34m(params, grads, exp_avgs, exp_avg_sqs, max_exp_avg_sqs, state_steps, foreach, capturable, amsgrad, beta1, beta2, lr, weight_decay, eps, maximize)\u001b[0m\n\u001b[1;32m    210\u001b[0m \u001b[39melse\u001b[39;00m:\n\u001b[1;32m    211\u001b[0m     func \u001b[39m=\u001b[39m _single_tensor_adam\n\u001b[0;32m--> 213\u001b[0m func(params,\n\u001b[1;32m    214\u001b[0m      grads,\n\u001b[1;32m    215\u001b[0m      exp_avgs,\n\u001b[1;32m    216\u001b[0m      exp_avg_sqs,\n\u001b[1;32m    217\u001b[0m      max_exp_avg_sqs,\n\u001b[1;32m    218\u001b[0m      state_steps,\n\u001b[1;32m    219\u001b[0m      amsgrad\u001b[39m=\u001b[39;49mamsgrad,\n\u001b[1;32m    220\u001b[0m      beta1\u001b[39m=\u001b[39;49mbeta1,\n\u001b[1;32m    221\u001b[0m      beta2\u001b[39m=\u001b[39;49mbeta2,\n\u001b[1;32m    222\u001b[0m      lr\u001b[39m=\u001b[39;49mlr,\n\u001b[1;32m    223\u001b[0m      weight_decay\u001b[39m=\u001b[39;49mweight_decay,\n\u001b[1;32m    224\u001b[0m      eps\u001b[39m=\u001b[39;49meps,\n\u001b[1;32m    225\u001b[0m      maximize\u001b[39m=\u001b[39;49mmaximize,\n\u001b[1;32m    226\u001b[0m      capturable\u001b[39m=\u001b[39;49mcapturable)\n",
      "File \u001b[0;32m~/.local/lib/python3.8/site-packages/torch/optim/adam.py:305\u001b[0m, in \u001b[0;36m_single_tensor_adam\u001b[0;34m(params, grads, exp_avgs, exp_avg_sqs, max_exp_avg_sqs, state_steps, amsgrad, beta1, beta2, lr, weight_decay, eps, maximize, capturable)\u001b[0m\n\u001b[1;32m    303\u001b[0m     denom \u001b[39m=\u001b[39m (max_exp_avg_sqs[i]\u001b[39m.\u001b[39msqrt() \u001b[39m/\u001b[39m bias_correction2_sqrt)\u001b[39m.\u001b[39madd_(eps)\n\u001b[1;32m    304\u001b[0m \u001b[39melse\u001b[39;00m:\n\u001b[0;32m--> 305\u001b[0m     denom \u001b[39m=\u001b[39m (exp_avg_sq\u001b[39m.\u001b[39;49msqrt() \u001b[39m/\u001b[39;49m bias_correction2_sqrt)\u001b[39m.\u001b[39madd_(eps)\n\u001b[1;32m    307\u001b[0m param\u001b[39m.\u001b[39maddcdiv_(exp_avg, denom, value\u001b[39m=\u001b[39m\u001b[39m-\u001b[39mstep_size)\n",
      "\u001b[0;31mKeyboardInterrupt\u001b[0m: "
     ]
    },
    {
     "name": "stderr",
     "output_type": "stream",
     "text": [
      "wandb: Network error (ConnectionError), entering retry loop.\n"
     ]
    }
   ],
   "source": [
    "# train denoising diffusion model\n",
    "# use node decay ordering\n",
    "\n",
    "# use wandb to log the model\n",
    "import wandb\n",
    "\n",
    "for num_layers in range(0, 200, 10):\n",
    "\n",
    "    dn = DenoisingNetwork(\n",
    "        node_feature_dim=dataset.num_features,\n",
    "        num_node_types=dataset.num_classes+1,\n",
    "        num_edge_types=3,\n",
    "        num_layers=num_layers,\n",
    "        out_channels=1\n",
    "    )\n",
    "\n",
    "    wandb.init(\n",
    "            project=\"ARGD\",\n",
    "            group=f\"v0.10_{num_layers}_layers\",\n",
    "            name=f\"overfit_sample_right_mse_zerograd\",\n",
    "            # track hyperparameters and run metadata\n",
    "            config={\n",
    "                \"policy\": \"train\",\n",
    "                \"n_epochs\": 10000,\n",
    "                \"batch_size\": 1,\n",
    "            }\n",
    "        )\n",
    "\n",
    "    optimizer = torch.optim.Adam(dn.parameters(), lr=0.0001)\n",
    "    loss_fcn = torch.nn.MSELoss() # TODO use appropriate loss function (possibly NLLLoss)\n",
    "    # require grad for model\n",
    "    dn.train()\n",
    "\n",
    "    M = 10 # number of diffusion trajectories to be created for each graph\n",
    "\n",
    "\n",
    "    with tqdm(range(50)) as pbar:\n",
    "        for batch in pbar:\n",
    "            graph = dataset[batch]\n",
    "            # print(f\"Generating trajectories for graph\")\n",
    "            # node decay ordering, accoding to node_decay_ordering\n",
    "            original_data = graph.clone()\n",
    "            diffusion_trajectories = []\n",
    "            for m in range(M):\n",
    "                node_order = node_decay_ordering(graph)\n",
    "                node_order = list(range(graph.x.shape[0]))\n",
    "                # create diffusion trajectory\n",
    "                diffusion_trajectory = [original_data]\n",
    "                masked_data = graph.clone()\n",
    "                for node in node_order:\n",
    "                    masked_data = masked_data.clone()\n",
    "                    \n",
    "                    masked_data = mask_node(masked_data, node)\n",
    "                    diffusion_trajectory.append(masked_data)\n",
    "\n",
    "                diffusion_trajectories.append(diffusion_trajectory)\n",
    "            \n",
    "            # predictions & loss\n",
    "            for diffusion_trajectory in diffusion_trajectories:\n",
    "                G_0 = diffusion_trajectory[0]\n",
    "                optimizer.zero_grad()\n",
    "                for t in range(1, len(diffusion_trajectory)-1):\n",
    "                    G_t = diffusion_trajectory[t]\n",
    "                    # transform to float\n",
    "                    G_t.x = G_t.x.float()\n",
    "                    G_t.edge_index = G_t.edge_index.float()\n",
    "\n",
    "                    G_tplus1 = diffusion_trajectory[t+1].clone()\n",
    "                    # transform to float\n",
    "                    G_tplus1.x = G_tplus1.x.float()\n",
    "                    G_tplus1.edge_index = G_tplus1.edge_index.float()\n",
    "\n",
    "                    G_pred = G_tplus1.clone()\n",
    "\n",
    "                    # predict node type\n",
    "                    node_type_probs, node_connections_probs = dn(G_tplus1)\n",
    "                    # sample node type\n",
    "                    # pred_node_type = torch.multinomial( node_type_probs.squeeze(), num_samples=1, replacement=True)\n",
    "                    pred_node_type = node_type_probs[node]\n",
    "                    # add node type to node\n",
    "                    G_pred.x[node] = pred_node_type\n",
    "                    # sample edge type\n",
    "                    # new_connections = torch.multinomial(node_connections_probs.squeeze(), num_samples=1, replacement=True)\n",
    "                    new_connections = node_connections_probs[node]\n",
    "                    '''\n",
    "                    TODO make sure you \n",
    "                    \"predict the connections of the new node to all previous nodes at once \n",
    "                                            using a mixture of multinomial distribution\"\n",
    "                    '''\n",
    "                    # add new connections to edge_attr\n",
    "                    for i in  range(len(new_connections)):\n",
    "                        new_connection = new_connections[i]\n",
    "                        if new_connection != -1:\n",
    "                            G_pred.edge_attr[G_pred.edge_index[0] == i] = new_connection\n",
    "                    # calculate loss\n",
    "                    loss = loss_fcn(G_t.x.float(), G_pred.x.float())\n",
    "                    # node_loss = torch.nn.functional.mse_loss(G_t.x.float(), G_pred.x.float())\n",
    "                    # connections_loss = torch.nn.functional.mse_loss(G_t.edge_index[0].float(), G_pred.edge_index[0].float())\n",
    "                    # loss = node_loss + connections_loss\n",
    "                    # zero gradients\n",
    "\n",
    "                    # backprop\n",
    "                    loss.backward()\n",
    "\n",
    "                    # DEBUG if gradients are not None\n",
    "                    # for name, param in dn.named_parameters():\n",
    "                    #     if param.grad != None and torch.sum(param.grad) != 0:\n",
    "                    #         print(name, param.grad.shape, torch.sum(param.grad))\n",
    "                    \n",
    "                    # update parameters\n",
    "                    optimizer.step()\n",
    "                    # log loss\n",
    "                    pbar.set_description(f\"Epoch: {batch}, Loss: {loss.item()%10:.4f}\")\n",
    "                    wandb.log({\"loss\": loss.item()})\n",
    "            # save model\n",
    "            torch.save(dn.state_dict(), \"ardm_model.pt\")\n",
    "                \n",
    "            \n",
    "    '''\n",
    "    TODO: edge_attributes have to be used. The masked nodes can be identified through them. There'll never be error in edge_index\n",
    "    '''"
   ]
  },
  {
   "cell_type": "code",
   "execution_count": 32,
   "metadata": {},
   "outputs": [
    {
     "data": {
      "text/plain": [
       "<All keys matched successfully>"
      ]
     },
     "execution_count": 32,
     "metadata": {},
     "output_type": "execute_result"
    }
   ],
   "source": [
    "# load model\n",
    "dn.load_state_dict(torch.load(\"ardm_model.pt\"))"
   ]
  },
  {
   "cell_type": "code",
   "execution_count": 83,
   "metadata": {},
   "outputs": [
    {
     "data": {
      "text/plain": [
       "tensor([[0],\n",
       "        [2],\n",
       "        [0],\n",
       "        [1],\n",
       "        [4],\n",
       "        [0],\n",
       "        [0],\n",
       "        [0],\n",
       "        [2],\n",
       "        [0],\n",
       "        [2],\n",
       "        [0],\n",
       "        [2],\n",
       "        [0],\n",
       "        [0],\n",
       "        [0],\n",
       "        [0],\n",
       "        [0],\n",
       "        [0],\n",
       "        [0],\n",
       "        [3],\n",
       "        [0],\n",
       "        [0],\n",
       "        [2],\n",
       "        [1],\n",
       "        [0],\n",
       "        [0],\n",
       "        [0],\n",
       "        [0],\n",
       "        [0],\n",
       "        [0],\n",
       "        [0]])"
      ]
     },
     "execution_count": 83,
     "metadata": {},
     "output_type": "execute_result"
    }
   ],
   "source": [
    "diffusion_trajectory[0].x"
   ]
  },
  {
   "cell_type": "code",
   "execution_count": 84,
   "metadata": {},
   "outputs": [],
   "source": [
    "G_pred = diffusion_trajectory[-1].clone()\n",
    "G_pred.x = G_pred.x.float()"
   ]
  },
  {
   "cell_type": "code",
   "execution_count": 85,
   "metadata": {},
   "outputs": [
    {
     "name": "stdout",
     "output_type": "stream",
     "text": [
      "tensor([1.2445])\n",
      "tensor([1.2445])\n",
      "tensor([0.7421])\n",
      "tensor([1.2445])\n",
      "tensor([1.0534])\n",
      "tensor([1.0167])\n",
      "tensor([0.9974])\n",
      "tensor([1.0024])\n",
      "tensor([1.1158])\n",
      "tensor([1.1269])\n",
      "tensor([0.9464])\n",
      "tensor([0.9622])\n",
      "tensor([1.2445])\n",
      "tensor([0.7681])\n",
      "tensor([0.9999])\n",
      "tensor([1.0590])\n",
      "tensor([1.0460])\n",
      "tensor([1.2445])\n",
      "tensor([0.9554])\n",
      "tensor([1.0220])\n",
      "tensor([0.6927])\n",
      "tensor([0.9803])\n",
      "tensor([0.8272])\n",
      "tensor([0.8478])\n",
      "tensor([0.7732])\n",
      "tensor([0.9623])\n",
      "tensor([0.8723])\n",
      "tensor([0.7071])\n",
      "tensor([1.1206])\n",
      "tensor([0.8973])\n",
      "tensor([0.8551])\n",
      "tensor([0.7293])\n"
     ]
    }
   ],
   "source": [
    "forward_pass = [G_pred]\n",
    "\n",
    "for i in range(G_pred.x.shape[0]):\n",
    "    # 1 diffusion step for each node\n",
    "    with torch.no_grad():\n",
    "        node_type_probs, node_connections_probs = dn(G_pred)    \n",
    "        # sample node type\n",
    "        # pred_node_type = torch.multinomial( node_type_probs.squeeze(), num_samples=1, replacement=True)\n",
    "        pred_node_type = node_type_probs[i]\n",
    "        # add node type to node\n",
    "        G_pred.x[i] = pred_node_type\n",
    "        print(pred_node_type)\n",
    "        # sample edge type\n",
    "        # new_connections = torch.multinomial(node_connections_probs.squeeze(), num_samples=1, replacement=True)\n",
    "        new_connections = node_connections_probs[i]\n",
    "        # add new connections to edge_attr\n",
    "        for i in  range(len(new_connections)):\n",
    "            new_connection = new_connections[i]\n",
    "            if new_connection != -1:\n",
    "                G_pred.edge_attr[G_pred.edge_index[0] == i] = new_connection\n",
    "\n",
    "        forward_pass.append(G_pred.clone())\n",
    "    # print(G_pred.x)\n",
    "    # print(G_pred.edge_attr)\n",
    "    # print(G_pred.edge_index)"
   ]
  },
  {
   "cell_type": "code",
   "execution_count": 86,
   "metadata": {},
   "outputs": [
    {
     "data": {
      "text/plain": [
       "32"
      ]
     },
     "execution_count": 86,
     "metadata": {},
     "output_type": "execute_result"
    }
   ],
   "source": [
    "G_pred.x.shape[0]"
   ]
  },
  {
   "cell_type": "code",
   "execution_count": 87,
   "metadata": {},
   "outputs": [
    {
     "data": {
      "text/plain": [
       "tensor([[1.2445],\n",
       "        [1.2445],\n",
       "        [0.7421],\n",
       "        [1.2445],\n",
       "        [1.0534],\n",
       "        [1.0167],\n",
       "        [0.9974],\n",
       "        [1.0024],\n",
       "        [1.1158],\n",
       "        [1.1269],\n",
       "        [0.9464],\n",
       "        [0.9622],\n",
       "        [1.2445],\n",
       "        [0.7681],\n",
       "        [0.9999],\n",
       "        [1.0590],\n",
       "        [1.0460],\n",
       "        [1.2445],\n",
       "        [0.9554],\n",
       "        [1.0220],\n",
       "        [0.6927],\n",
       "        [0.9803],\n",
       "        [0.8272],\n",
       "        [0.8478],\n",
       "        [0.7732],\n",
       "        [0.9623],\n",
       "        [0.8723],\n",
       "        [0.7071],\n",
       "        [1.1206],\n",
       "        [0.8973],\n",
       "        [0.8551],\n",
       "        [0.7293]])"
      ]
     },
     "execution_count": 87,
     "metadata": {},
     "output_type": "execute_result"
    }
   ],
   "source": [
    "forward_pass[-1].x"
   ]
  },
  {
   "cell_type": "code",
   "execution_count": null,
   "metadata": {},
   "outputs": [],
   "source": []
  }
 ],
 "metadata": {
  "kernelspec": {
   "display_name": "imitation",
   "language": "python",
   "name": "python3"
  },
  "language_info": {
   "codemirror_mode": {
    "name": "ipython",
    "version": 3
   },
   "file_extension": ".py",
   "mimetype": "text/x-python",
   "name": "python",
   "nbconvert_exporter": "python",
   "pygments_lexer": "ipython3",
   "version": "3.8.17"
  },
  "orig_nbformat": 4
 },
 "nbformat": 4,
 "nbformat_minor": 2
}
