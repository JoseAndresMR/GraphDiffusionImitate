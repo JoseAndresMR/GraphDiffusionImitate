{
 "cells": [
  {
   "cell_type": "markdown",
   "id": "d7e6ab09",
   "metadata": {},
   "source": [
    "# A deep dive into robomimic datasets\n",
    "\n",
    "This notebook will provide examples on how to work with robomimic datasets through various python code examples. This notebook assumes that you have installed `robomimic` and `robosuite` (which should be on the `offline_study` branch)."
   ]
  },
  {
   "cell_type": "markdown",
   "id": "2a05e543",
   "metadata": {},
   "source": [
    "## Download dataset\n",
    "\n",
    "First, let's try downloading a simple dataset - we'll use the Lift (PH) dataset. Note that there are utility scripts such as `scripts/download_datasets.py` to do this for us, but for the purposes of this example, we'll use the python API."
   ]
  },
  {
   "cell_type": "code",
   "execution_count": 1,
   "id": "4e2b90e6",
   "metadata": {},
   "outputs": [
    {
     "name": "stderr",
     "output_type": "stream",
     "text": [
      "/home/caio/.local/lib/python3.8/site-packages/tqdm/auto.py:21: TqdmWarning: IProgress not found. Please update jupyter and ipywidgets. See https://ipywidgets.readthedocs.io/en/stable/user_install.html\n",
      "  from .autonotebook import tqdm as notebook_tqdm\n",
      "/home/caio/.local/lib/python3.8/site-packages/torchvision/io/image.py:13: UserWarning: Failed to load image Python extension: libtorch_cuda_cu.so: cannot open shared object file: No such file or directory\n",
      "  warn(f\"Failed to load image Python extension: {e}\")\n"
     ]
    },
    {
     "name": "stdout",
     "output_type": "stream",
     "text": [
      "\u001b[33mROBOMIMIC WARNING(\n",
      "    No private macro file found!\n",
      "    It is recommended to use a private macro file\n",
      "    To setup, run: python /home/caio/workspace/robomimic/robomimic/scripts/setup_macros.py\n",
      ")\u001b[0m\n"
     ]
    }
   ],
   "source": [
    "import os\n",
    "import json\n",
    "import h5py\n",
    "import numpy as np\n",
    "\n",
    "import robomimic\n",
    "import robomimic.utils.file_utils as FileUtils\n",
    "\n",
    "# the dataset registry can be found at robomimic/__init__.py\n",
    "from robomimic import DATASET_REGISTRY\n"
   ]
  },
  {
   "cell_type": "markdown",
   "id": "54bdec82",
   "metadata": {},
   "source": [
    "## Read quantities from dataset\n",
    "\n",
    "Next, let's demonstrate how to read different quantities from the dataset. There are scripts such as `scripts/get_dataset_info.py` that can help you easily understand the contents of a dataset, but in this example, we'll break down how to do this directly.\n",
    "\n",
    "First, let's take a look at the number of demonstrations in the file."
   ]
  },
  {
   "cell_type": "code",
   "execution_count": 2,
   "id": "a35cd8e9",
   "metadata": {},
   "outputs": [
    {
     "name": "stdout",
     "output_type": "stream",
     "text": [
      "hdf5 file ./data/trajs.hdf5 has 32 demonstrations\n"
     ]
    }
   ],
   "source": [
    "# open file\n",
    "dataset_path = \"./data/trajs.hdf5\"\n",
    "f = h5py.File(dataset_path, \"r\")\n",
    "\n",
    "# each demonstration is a group under \"data\"\n",
    "demos = list(f[\"data\"].keys())\n",
    "# remove item \"mask\"\n",
    "demos.remove(\"mask\")\n",
    "num_demos = len(demos)\n",
    "\n",
    "print(\"hdf5 file {} has {} demonstrations\".format(dataset_path, num_demos))"
   ]
  },
  {
   "cell_type": "markdown",
   "id": "bdb073a0",
   "metadata": {},
   "source": [
    "Next, let's list all of the demonstrations, along with the number of state-action pairs in each demonstration."
   ]
  },
  {
   "cell_type": "code",
   "execution_count": 9,
   "id": "0160d2fd",
   "metadata": {},
   "outputs": [
    {
     "data": {
      "text/plain": [
       "64"
      ]
     },
     "execution_count": 9,
     "metadata": {},
     "output_type": "execute_result"
    }
   ],
   "source": [
    "data = f[\"data/demo_0/obs/joint_values\"]\n",
    "len(data)"
   ]
  },
  {
   "cell_type": "code",
   "execution_count": 18,
   "id": "9bda3e70",
   "metadata": {},
   "outputs": [
    {
     "ename": "KeyError",
     "evalue": "\"Unable to open object (object 'action' doesn't exist)\"",
     "output_type": "error",
     "traceback": [
      "\u001b[0;31m---------------------------------------------------------------------------\u001b[0m",
      "\u001b[0;31mKeyError\u001b[0m                                  Traceback (most recent call last)",
      "Cell \u001b[0;32mIn[18], line 7\u001b[0m\n\u001b[1;32m      4\u001b[0m demos \u001b[39m=\u001b[39m [demos[i] \u001b[39mfor\u001b[39;00m i \u001b[39min\u001b[39;00m inds]\n\u001b[1;32m      6\u001b[0m \u001b[39mfor\u001b[39;00m ep \u001b[39min\u001b[39;00m demos:\n\u001b[0;32m----> 7\u001b[0m     num_actions \u001b[39m=\u001b[39m f[\u001b[39m\"\u001b[39;49m\u001b[39mdata/\u001b[39;49m\u001b[39m{}\u001b[39;49;00m\u001b[39m/action\u001b[39;49m\u001b[39m\"\u001b[39;49m\u001b[39m.\u001b[39;49mformat(ep)]\u001b[39m.\u001b[39mshape[\u001b[39m0\u001b[39m]\n\u001b[1;32m      8\u001b[0m     \u001b[39mprint\u001b[39m(\u001b[39m\"\u001b[39m\u001b[39m{}\u001b[39;00m\u001b[39m has \u001b[39m\u001b[39m{}\u001b[39;00m\u001b[39m samples\u001b[39m\u001b[39m\"\u001b[39m\u001b[39m.\u001b[39mformat(ep, num_actions))\n",
      "File \u001b[0;32mh5py/_objects.pyx:54\u001b[0m, in \u001b[0;36mh5py._objects.with_phil.wrapper\u001b[0;34m()\u001b[0m\n",
      "File \u001b[0;32mh5py/_objects.pyx:55\u001b[0m, in \u001b[0;36mh5py._objects.with_phil.wrapper\u001b[0;34m()\u001b[0m\n",
      "File \u001b[0;32m~/.local/lib/python3.8/site-packages/h5py/_hl/group.py:357\u001b[0m, in \u001b[0;36mGroup.__getitem__\u001b[0;34m(self, name)\u001b[0m\n\u001b[1;32m    355\u001b[0m         \u001b[39mraise\u001b[39;00m \u001b[39mValueError\u001b[39;00m(\u001b[39m\"\u001b[39m\u001b[39mInvalid HDF5 object reference\u001b[39m\u001b[39m\"\u001b[39m)\n\u001b[1;32m    356\u001b[0m \u001b[39melif\u001b[39;00m \u001b[39misinstance\u001b[39m(name, (\u001b[39mbytes\u001b[39m, \u001b[39mstr\u001b[39m)):\n\u001b[0;32m--> 357\u001b[0m     oid \u001b[39m=\u001b[39m h5o\u001b[39m.\u001b[39;49mopen(\u001b[39mself\u001b[39;49m\u001b[39m.\u001b[39;49mid, \u001b[39mself\u001b[39;49m\u001b[39m.\u001b[39;49m_e(name), lapl\u001b[39m=\u001b[39;49m\u001b[39mself\u001b[39;49m\u001b[39m.\u001b[39;49m_lapl)\n\u001b[1;32m    358\u001b[0m \u001b[39melse\u001b[39;00m:\n\u001b[1;32m    359\u001b[0m     \u001b[39mraise\u001b[39;00m \u001b[39mTypeError\u001b[39;00m(\u001b[39m\"\u001b[39m\u001b[39mAccessing a group is done with bytes or str, \u001b[39m\u001b[39m\"\u001b[39m\n\u001b[1;32m    360\u001b[0m                     \u001b[39m\"\u001b[39m\u001b[39mnot \u001b[39m\u001b[39m{}\u001b[39;00m\u001b[39m\"\u001b[39m\u001b[39m.\u001b[39mformat(\u001b[39mtype\u001b[39m(name)))\n",
      "File \u001b[0;32mh5py/_objects.pyx:54\u001b[0m, in \u001b[0;36mh5py._objects.with_phil.wrapper\u001b[0;34m()\u001b[0m\n",
      "File \u001b[0;32mh5py/_objects.pyx:55\u001b[0m, in \u001b[0;36mh5py._objects.with_phil.wrapper\u001b[0;34m()\u001b[0m\n",
      "File \u001b[0;32mh5py/h5o.pyx:190\u001b[0m, in \u001b[0;36mh5py.h5o.open\u001b[0;34m()\u001b[0m\n",
      "\u001b[0;31mKeyError\u001b[0m: \"Unable to open object (object 'action' doesn't exist)\""
     ]
    }
   ],
   "source": [
    "# each demonstration is named \"demo_#\" where # is a number.\n",
    "# Let's put the demonstration list in increasing episode order\n",
    "inds = np.argsort([elem[5:] for elem in demos])\n",
    "demos = [demos[i] for i in inds]\n",
    "\n",
    "for ep in demos:\n",
    "    num_actions = f[\"data/{}/actions\".format(ep)].shape[0]\n",
    "    print(\"{} has {} samples\".format(ep, num_actions))"
   ]
  },
  {
   "cell_type": "markdown",
   "id": "ff998d62",
   "metadata": {},
   "source": [
    "Now, let's dig into a single trajectory to take a look at some of the quantities in each demonstration."
   ]
  },
  {
   "cell_type": "code",
   "execution_count": 8,
   "id": "2f7b497a",
   "metadata": {},
   "outputs": [
    {
     "data": {
      "text/plain": [
       "<KeysViewHDF5 ['actions', 'dones', 'obs', 'rewards', 'states']>"
      ]
     },
     "execution_count": 8,
     "metadata": {},
     "output_type": "execute_result"
    }
   ],
   "source": [
    "# look at first demonstration\n",
    "demo_key = demos[0]\n",
    "demo_grp = f[\"data/{}\".format(demo_key)]\n",
    "\n",
    "demo_grp.keys()"
   ]
  },
  {
   "cell_type": "code",
   "execution_count": 47,
   "id": "8bbe9218",
   "metadata": {},
   "outputs": [
    {
     "name": "stdout",
     "output_type": "stream",
     "text": [
      "obs: <HDF5 group \"/data/demo_0/obs\" (2 members)>\n",
      "obs[joint_poses]: (2, 4)\n"
     ]
    }
   ],
   "source": [
    "obs = demo_grp[\"obs\"]\n",
    "keys = list(obs.keys())\n",
    "print(f\"obs: {obs}\")\n",
    "print(f\"obs[{keys[0]}]: {obs[keys[1]][0].shape}\")"
   ]
  },
  {
   "cell_type": "code",
   "execution_count": 48,
   "id": "1828f4d1",
   "metadata": {},
   "outputs": [
    {
     "data": {
      "text/plain": [
       "136"
      ]
     },
     "execution_count": 48,
     "metadata": {},
     "output_type": "execute_result"
    }
   ],
   "source": []
  },
  {
   "cell_type": "code",
   "execution_count": 37,
   "id": "0a934c54",
   "metadata": {},
   "outputs": [
    {
     "name": "stdout",
     "output_type": "stream",
     "text": [
      "timestep 0\n",
      "obs\n",
      "{\n",
      "    \"joint_poses\": [\n",
      "        [\n",
      "            [\n",
      "                [\n",
      "                    1.0,\n",
      "                    0.0,\n",
      "                    0.0,\n",
      "                    0.0\n",
      "                ],\n",
      "                [\n",
      "                    0.0,\n",
      "                    1.0,\n",
      "                    0.0,\n",
      "                    0.0\n",
      "                ],\n",
      "                [\n",
      "                    0.0,\n",
      "                    0.0,\n",
      "                    1.0,\n",
      "                    0.0\n",
      "                ],\n",
      "                [\n",
      "                    0.0,\n",
      "                    0.0,\n",
      "                    0.0,\n",
      "                    1.0\n",
      "                ]\n",
      "            ],\n",
      "            [\n",
      "                [\n",
      "                    1.0,\n",
      "                    0.0,\n",
      "                    0.0,\n",
      "                    0.0\n",
      "                ],\n",
      "                [\n",
      "                    0.0,\n",
      "                    1.0,\n",
      "                    0.0,\n",
      "                    0.0\n",
      "                ],\n",
      "                [\n",
      "                    0.0,\n",
      "                    0.0,\n",
      "                    1.0,\n",
      "                    0.0\n",
      "                ],\n",
      "                [\n",
      "                    0.0,\n",
      "                    0.0,\n",
      "                    0.0,\n",
      "                    1.0\n",
      "                ]\n",
      "            ],\n",
      "            [\n",
      "                [\n",
      "                    1.0,\n",
      "                    0.00015971492393873632,\n",
      "                    0.0,\n",
      "                    0.0\n",
      "                ],\n",
      "                [\n",
      "                    -0.00015971492393873632,\n",
      "                    1.0,\n",
      "                    0.0,\n",
      "                    0.0\n",
      "                ],\n",
      "                [\n",
      "                    0.0,\n",
      "                    0.0,\n",
      "                    1.0,\n",
      "                    0.0\n",
      "                ],\n",
      "                [\n",
      "                    0.0,\n",
      "                    0.0,\n",
      "                    0.0,\n",
      "                    1.0\n",
      "                ]\n",
      "            ],\n",
      "            [\n",
      "                [\n",
      "                    1.0,\n",
      "                    0.00015971492393873632,\n",
      "                    0.0,\n",
      "                    0.5400000214576721\n",
      "                ],\n",
      "                [\n",
      "                    -0.00015971492393873632,\n",
      "                    1.0,\n",
      "                    0.0,\n",
      "                    -8.624606562079862e-05\n",
      "                ],\n",
      "                [\n",
      "                    0.0,\n",
      "                    0.0,\n",
      "                    1.0,\n",
      "                    0.0\n",
      "                ],\n",
      "                [\n",
      "                    0.0,\n",
      "                    0.0,\n",
      "                    0.0,\n",
      "                    1.0\n",
      "                ]\n",
      "            ],\n",
      "            [\n",
      "                [\n",
      "                    0.9999998807907104,\n",
      "                    0.0005339998169802129,\n",
      "                    0.0,\n",
      "                    0.5400000214576721\n",
      "                ],\n",
      "                [\n",
      "                    -0.0005339998169802129,\n",
      "                    0.9999998807907104,\n",
      "                    0.0,\n",
      "                    -8.624606562079862e-05\n",
      "                ],\n",
      "                [\n",
      "                    0.0,\n",
      "                    0.0,\n",
      "                    1.0,\n",
      "                    0.0\n",
      "                ],\n",
      "                [\n",
      "                    0.0,\n",
      "                    0.0,\n",
      "                    0.0,\n",
      "                    1.0\n",
      "                ]\n",
      "            ],\n",
      "            [\n",
      "                [\n",
      "                    0.9999998807907104,\n",
      "                    0.0005339998169802129,\n",
      "                    0.0,\n",
      "                    1.0199999809265137\n",
      "                ],\n",
      "                [\n",
      "                    -0.0005339998169802129,\n",
      "                    0.9999998807907104,\n",
      "                    0.0,\n",
      "                    -0.0003425659378990531\n",
      "                ],\n",
      "                [\n",
      "                    0.0,\n",
      "                    0.0,\n",
      "                    1.0,\n",
      "                    0.0\n",
      "                ],\n",
      "                [\n",
      "                    0.0,\n",
      "                    0.0,\n",
      "                    0.0,\n",
      "                    1.0\n",
      "                ]\n",
      "            ],\n",
      "            [\n",
      "                [\n",
      "                    0.9999996423721313,\n",
      "                    0.0008332565776072443,\n",
      "                    0.0,\n",
      "                    1.0199999809265137\n",
      "                ],\n",
      "                [\n",
      "                    -0.0008332565776072443,\n",
      "                    0.9999996423721313,\n",
      "                    0.0,\n",
      "                    -0.0003425659378990531\n",
      "                ],\n",
      "                [\n",
      "                    0.0,\n",
      "                    0.0,\n",
      "                    1.0,\n",
      "                    0.0\n",
      "                ],\n",
      "                [\n",
      "                    0.0,\n",
      "                    0.0,\n",
      "                    0.0,\n",
      "                    1.0\n",
      "                ]\n",
      "            ],\n",
      "            [\n",
      "                [\n",
      "                    0.9999996423721313,\n",
      "                    0.0008332565776072443,\n",
      "                    0.0,\n",
      "                    1.2999999523162842\n",
      "                ],\n",
      "                [\n",
      "                    -0.0008332565776072443,\n",
      "                    0.9999996423721313,\n",
      "                    0.0,\n",
      "                    -0.0005758777842856944\n",
      "                ],\n",
      "                [\n",
      "                    0.0,\n",
      "                    0.0,\n",
      "                    1.0,\n",
      "                    0.0\n",
      "                ],\n",
      "                [\n",
      "                    0.0,\n",
      "                    0.0,\n",
      "                    0.0,\n",
      "                    1.0\n",
      "                ]\n",
      "            ]\n",
      "        ]\n",
      "    ],\n",
      "    \"obstacle_spheres\": [\n",
      "        [\n",
      "            0.5,\n",
      "            -0.23894190842243002,\n",
      "            0.0,\n",
      "            0.06572426675931299\n",
      "        ],\n",
      "        [\n",
      "            0.5,\n",
      "            -0.025636142682743723,\n",
      "            0.0,\n",
      "            0.06003742488866767\n",
      "        ]\n",
      "    ]\n",
      "}\n",
      "action\n",
      "[-0.00015971 -0.00037428 -0.00029926]\n"
     ]
    }
   ],
   "source": [
    "# Each observation is a dictionary that maps modalities to numpy arrays, and\n",
    "# each action is a numpy array. Let's print the observations and actions for the \n",
    "# first 5 timesteps of this trajectory.\n",
    "t = 0\n",
    "print(\"timestep {}\".format(t))\n",
    "obs_t = dict()\n",
    "# each observation modality is stored as a subgroup\n",
    "for k in demo_grp[\"obs\"]:\n",
    "    obs_t[k] = demo_grp[\"obs/{}\".format(k)][t] # numpy array\n",
    "act_t = demo_grp[\"actions\"][t]\n",
    "\n",
    "# pretty-print observation and action using json\n",
    "obs_t_pp = { k : obs_t[k].tolist() for k in obs_t }\n",
    "print(\"obs\")\n",
    "print(json.dumps(obs_t_pp, indent=4))\n",
    "print(\"action\")\n",
    "print(act_t)"
   ]
  },
  {
   "cell_type": "code",
   "execution_count": 10,
   "id": "552be387",
   "metadata": {},
   "outputs": [
    {
     "name": "stdout",
     "output_type": "stream",
     "text": [
      "shape of first ten actions (10, 3)\n",
      "shape of all actions (64, 3)\n"
     ]
    }
   ],
   "source": [
    "# we can also grab multiple timesteps at once directly, or even the full trajectory at once\n",
    "first_ten_actions = demo_grp[\"actions\"][:10]\n",
    "print(\"shape of first ten actions {}\".format(first_ten_actions.shape))\n",
    "all_actions = demo_grp[\"actions\"][:]\n",
    "print(\"shape of all actions {}\".format(all_actions.shape))"
   ]
  },
  {
   "cell_type": "code",
   "execution_count": null,
   "id": "57976238",
   "metadata": {},
   "outputs": [],
   "source": [
    "# the trajectory also contains the next observations under \"next_obs\", \n",
    "# for convenient use in a batch (offline) RL pipeline. Let's verify\n",
    "# that \"next_obs\" and \"obs\" are offset by 1.\n",
    "for k in demo_grp[\"obs\"]:\n",
    "    # obs_{t+1} == next_obs_{t}\n",
    "    assert(np.allclose(demo_grp[\"obs\"][k][1:], demo_grp[\"next_obs\"][k][:-1]))\n",
    "print(\"success\")"
   ]
  },
  {
   "cell_type": "code",
   "execution_count": null,
   "id": "51ab4a38",
   "metadata": {},
   "outputs": [],
   "source": [
    "# we also have \"done\" and \"reward\" information stored in each trajectory.\n",
    "# In this case, we have sparse rewards that indicate task completion at\n",
    "# that timestep.\n",
    "dones = demo_grp[\"dones\"][:]\n",
    "rewards = demo_grp[\"rewards\"][:]\n",
    "print(\"dones\")\n",
    "print(dones)\n",
    "print(\"\")\n",
    "print(\"rewards\")\n",
    "print(rewards)"
   ]
  },
  {
   "cell_type": "code",
   "execution_count": null,
   "id": "360df27c",
   "metadata": {},
   "outputs": [],
   "source": [
    "# each demonstration also contains metadata\n",
    "num_samples = demo_grp.attrs[\"num_samples\"] # number of samples in this trajectory\n",
    "mujoco_xml_file = demo_grp.attrs[\"model_file\"] # mujoco XML file for this demonstration\n",
    "print(mujoco_xml_file)"
   ]
  },
  {
   "cell_type": "markdown",
   "id": "5f10f98f",
   "metadata": {},
   "source": [
    "Finally, let's take a look at some global metadata present in the file. The hdf5 file stores environment metadata which is a convenient way to understand which simulation environment (task) the dataset was collected on. "
   ]
  },
  {
   "cell_type": "code",
   "execution_count": null,
   "id": "3b579caf",
   "metadata": {},
   "outputs": [],
   "source": [
    "env_meta = json.loads(f[\"data\"].attrs[\"env_args\"])\n",
    "# note: we could also have used the following function:\n",
    "# env_meta = FileUtils.get_env_metadata_from_dataset(dataset_path=dataset_path)\n",
    "print(\"==== Env Meta ====\")\n",
    "print(json.dumps(env_meta, indent=4))\n",
    "print(\"\")"
   ]
  },
  {
   "cell_type": "markdown",
   "id": "b395453a",
   "metadata": {},
   "source": [
    "## Visualizing demonstration trajectories\n",
    "\n",
    "Finally, let's play some of these demonstrations back in the simulation environment to easily visualize the data that was collected."
   ]
  },
  {
   "cell_type": "markdown",
   "id": "d613ab93",
   "metadata": {},
   "source": [
    "It turns out that the environment metadata stored in the hdf5 allows us to easily create a simulation environment that is consistent with the way the dataset was collected!"
   ]
  },
  {
   "cell_type": "code",
   "execution_count": null,
   "id": "9c98068e",
   "metadata": {},
   "outputs": [],
   "source": [
    "import robomimic.utils.env_utils as EnvUtils\n",
    "\n",
    "# create simulation environment from environment metedata\n",
    "env = EnvUtils.create_env_from_metadata(\n",
    "    env_meta=env_meta, \n",
    "    render=False,            # no on-screen rendering\n",
    "    render_offscreen=True,   # off-screen rendering to support rendering video frames\n",
    ")"
   ]
  },
  {
   "cell_type": "code",
   "execution_count": null,
   "id": "595a47d7",
   "metadata": {},
   "outputs": [],
   "source": [
    "import robomimic.utils.obs_utils as ObsUtils\n",
    "\n",
    "# We normally need to make sure robomimic knows which observations are images (for the\n",
    "# data processing pipeline). This is usually inferred from your training config, but\n",
    "# since we are just playing back demonstrations, we just need to initialize robomimic\n",
    "# with a dummy spec.\n",
    "dummy_spec = dict(\n",
    "    obs=dict(\n",
    "            low_dim=[\"robot0_eef_pos\"],\n",
    "            rgb=[],\n",
    "        ),\n",
    ")\n",
    "ObsUtils.initialize_obs_utils_with_obs_specs(obs_modality_specs=dummy_spec)"
   ]
  },
  {
   "cell_type": "code",
   "execution_count": null,
   "id": "d997cf39",
   "metadata": {},
   "outputs": [],
   "source": [
    "import imageio\n",
    "\n",
    "# prepare to write playback trajectories to video\n",
    "video_path = os.path.join(download_folder, \"playback.mp4\")\n",
    "video_writer = imageio.get_writer(video_path, fps=20)"
   ]
  },
  {
   "cell_type": "code",
   "execution_count": null,
   "id": "dfae1aaa",
   "metadata": {},
   "outputs": [],
   "source": [
    "def playback_trajectory(demo_key):\n",
    "    \"\"\"\n",
    "    Simple helper function to playback the trajectory stored under the hdf5 group @demo_key and\n",
    "    write frames rendered from the simulation to the active @video_writer.\n",
    "    \"\"\"\n",
    "    \n",
    "    # robosuite datasets store the ground-truth simulator states under the \"states\" key.\n",
    "    # We will use the first one, alone with the model xml, to reset the environment to\n",
    "    # the initial configuration before playing back actions.\n",
    "    init_state = f[\"data/{}/states\".format(demo_key)][0]\n",
    "    model_xml = f[\"data/{}\".format(demo_key)].attrs[\"model_file\"]\n",
    "    initial_state_dict = dict(states=init_state, model=model_xml)\n",
    "    \n",
    "    # reset to initial state\n",
    "    env.reset_to(initial_state_dict)\n",
    "    \n",
    "    # playback actions one by one, and render frames\n",
    "    actions = f[\"data/{}/actions\".format(demo_key)][:]\n",
    "    for t in range(actions.shape[0]):\n",
    "        env.step(actions[t])\n",
    "        video_img = env.render(mode=\"rgb_array\", height=512, width=512, camera_name=\"agentview\")\n",
    "        video_writer.append_data(video_img)"
   ]
  },
  {
   "cell_type": "code",
   "execution_count": null,
   "id": "926d1811",
   "metadata": {},
   "outputs": [],
   "source": [
    "# playback the first 5 demos\n",
    "for ep in demos[:5]:\n",
    "    print(\"Playing back demo key: {}\".format(ep))\n",
    "    playback_trajectory(ep)\n",
    "\n",
    "# done writing video\n",
    "video_writer.close()"
   ]
  },
  {
   "cell_type": "code",
   "execution_count": null,
   "id": "bc89c8d8",
   "metadata": {},
   "outputs": [],
   "source": [
    "# view the trajectories!\n",
    "from IPython.display import Video\n",
    "Video(video_path, embed=True)"
   ]
  }
 ],
 "metadata": {
  "kernelspec": {
   "display_name": "Python 3 (ipykernel)",
   "language": "python",
   "name": "python3"
  },
  "language_info": {
   "codemirror_mode": {
    "name": "ipython",
    "version": 3
   },
   "file_extension": ".py",
   "mimetype": "text/x-python",
   "name": "python",
   "nbconvert_exporter": "python",
   "pygments_lexer": "ipython3",
   "version": "3.8.10"
  }
 },
 "nbformat": 4,
 "nbformat_minor": 5
}
